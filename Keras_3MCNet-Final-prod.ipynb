{
 "cells": [
  {
   "cell_type": "markdown",
   "metadata": {},
   "source": [
    "# Mentor-Mentee Matching Coefficient (3MC)\n",
    "\n",
    "> 3MC is used to quantify how a certain mentor matches with a mentee. \n",
    "\n",
    "A simple feedforward neural network was deployed to find out the pattern between mentee's surveyed response and his performance (for here, it is their pitch score). We definitely should include other mentee's information like how much investments they raised, how many investors, number of patent technology, number of patent citations, and etc. Also,  \n",
    "\n",
    "As there are more available cleaned data for us, our model will be tested and trained against the newer data. \n",
    "\n",
    "Definitely this model is only a **proof of concept** since we only use mentee's surveyed data to predict their pitch performance. \n",
    "\n",
    "Proposed idea to improve: \n",
    "\n",
    "    1) Include the specific mentor and mentee pairs \n",
    "    2) Use mentor's feedback to help predict mentee's performance (i.e. the sentiment analysis with NLP)\n"
   ]
  },
  {
   "cell_type": "code",
   "execution_count": 1,
   "metadata": {},
   "outputs": [
    {
     "name": "stderr",
     "output_type": "stream",
     "text": [
      "Using TensorFlow backend.\n"
     ]
    },
    {
     "name": "stdout",
     "output_type": "stream",
     "text": [
      "<tensorflow.python.client.session.Session object at 0x7fe840175be0>\n"
     ]
    }
   ],
   "source": [
    "import keras \n",
    "import tensorflow as tf \n",
    "\n",
    "# config tensorflow to og_device_placement and soft placement\n",
    "\n",
    "config = tf.ConfigProto(log_device_placement=True, allow_soft_placement=True)\n",
    "\n",
    "sess = tf.Session(config = config)\n",
    "### adding output=None function\n",
    "print(sess)\n",
    "\n"
   ]
  },
  {
   "cell_type": "code",
   "execution_count": 2,
   "metadata": {
    "collapsed": true
   },
   "outputs": [],
   "source": [
    "import warnings\n",
    "warnings.filterwarnings('ignore')\n",
    "\n",
    "\n",
    "with warnings.catch_warnings():\n",
    "    warnings.filterwarnings(\"ignore\",category=DeprecationWarning)"
   ]
  },
  {
   "cell_type": "markdown",
   "metadata": {},
   "source": [
    "import keras\n",
    "\n",
    "import tensorflow as tf\n",
    "\n",
    "config = tf.Session(config = tf.ConfigProto(log_device_placement=True))"
   ]
  },
  {
   "cell_type": "code",
   "execution_count": 3,
   "metadata": {
    "collapsed": true
   },
   "outputs": [],
   "source": [
    "import warnings\n",
    "\n",
    "\n",
    "# Supress warnings\n",
    "# when we use GridSearchCV and KerasRegressor"
   ]
  },
  {
   "cell_type": "code",
   "execution_count": 4,
   "metadata": {
    "collapsed": true
   },
   "outputs": [],
   "source": [
    "import sklearn as sk\n",
    "from sklearn.metrics import confusion_matrix as cm\n",
    "from sklearn.model_selection import cross_val_score\n",
    "from sklearn.model_selection import KFold\n",
    "from sklearn.model_selection import GridSearchCV\n",
    "from sklearn.preprocessing import StandardScaler, LabelEncoder, OneHotEncoder\n",
    "from sklearn.pipeline import Pipeline\n"
   ]
  },
  {
   "cell_type": "code",
   "execution_count": 5,
   "metadata": {
    "collapsed": true
   },
   "outputs": [],
   "source": [
    "import numpy as np\n",
    "import matplotlib.pyplot as plt\n",
    "import math\n",
    "\n",
    "%matplotlib inline"
   ]
  },
  {
   "cell_type": "code",
   "execution_count": 6,
   "metadata": {
    "collapsed": true
   },
   "outputs": [],
   "source": [
    "import tensorflow as tf\n"
   ]
  },
  {
   "cell_type": "code",
   "execution_count": 7,
   "metadata": {
    "collapsed": true
   },
   "outputs": [],
   "source": [
    "import pandas as pd"
   ]
  },
  {
   "cell_type": "code",
   "execution_count": 8,
   "metadata": {
    "collapsed": true
   },
   "outputs": [],
   "source": [
    "import keras\n",
    "# from keras.datasets import mnist \n",
    "#MNIST dataset Handwritten dataset, to recognize the number\n",
    "from keras.models import Sequential\n",
    "from keras.layers import Dense, Dropout, Flatten\n",
    "from keras.layers import Conv2D, MaxPooling2D\n",
    "\n",
    "from keras.wrappers.scikit_learn import KerasRegressor, KerasClassifier\n",
    "from keras import backend as K\n",
    "from keras.layers import Activation, LeakyReLU\n",
    "from keras.layers.advanced_activations import PReLU\n",
    "\n",
    "from keras import backend as K\n",
    "from keras.utils.generic_utils import get_custom_objects"
   ]
  },
  {
   "cell_type": "code",
   "execution_count": 9,
   "metadata": {
    "collapsed": true
   },
   "outputs": [],
   "source": [
    "import datetime as dt"
   ]
  },
  {
   "cell_type": "markdown",
   "metadata": {},
   "source": [
    "Scrip starts at in GMT"
   ]
  },
  {
   "cell_type": "code",
   "execution_count": 10,
   "metadata": {},
   "outputs": [
    {
     "name": "stdout",
     "output_type": "stream",
     "text": [
      "2018/8/14 0:15 GMT\n"
     ]
    }
   ],
   "source": [
    "a = dt.datetime.now()\n",
    "print(\"%s/%s/%s %s:%s GMT\" % (a.year, a.month, a.day, a.hour, a.minute))"
   ]
  },
  {
   "cell_type": "code",
   "execution_count": 11,
   "metadata": {
    "collapsed": true
   },
   "outputs": [],
   "source": [
    "seed = 123\n",
    "np.random.seed(seed)\n"
   ]
  },
  {
   "cell_type": "markdown",
   "metadata": {},
   "source": [
    "Connect to AWS s3\n",
    "\n",
    "> \"aws configure\" in terminal with your rootkey.csv (access key, private key)"
   ]
  },
  {
   "cell_type": "code",
   "execution_count": 12,
   "metadata": {
    "collapsed": true
   },
   "outputs": [],
   "source": [
    "# Access AWS S3\n",
    "\n",
    "import boto3\n",
    "\n",
    "s3 = boto3.client('s3')\n",
    "resource = boto3.resource('s3')"
   ]
  },
  {
   "cell_type": "markdown",
   "metadata": {},
   "source": [
    "View our buckets in AWS S3"
   ]
  },
  {
   "cell_type": "code",
   "execution_count": 13,
   "metadata": {},
   "outputs": [
    {
     "name": "stdout",
     "output_type": "stream",
     "text": [
      "s3.Bucket(name='aws-logs-179767428070-us-west-1')\n",
      "s3.Bucket(name='devsparkcal')\n",
      "s3.Bucket(name='kicsv-analysis')\n",
      "s3.Bucket(name='kicsv-mentordb')\n",
      "s3.Bucket(name='kicsv-portalsystem')\n",
      "s3.Bucket(name='kicsv-regcomp')\n",
      "s3.Bucket(name='kicsv-website')\n"
     ]
    }
   ],
   "source": [
    "for bucket in resource.buckets.all():\n",
    "    print(bucket)"
   ]
  },
  {
   "cell_type": "code",
   "execution_count": 14,
   "metadata": {
    "collapsed": true
   },
   "outputs": [],
   "source": [
    "data = s3.get_object(Bucket=\"devsparkcal\", \n",
    "                     Key=\"3MC20187302311/part-00000-tid-5106720104635993564-0485fe8d-702e-4d6b-9e5d-0997ee09f693-3773-c000.csv\")\n",
    "\n"
   ]
  },
  {
   "cell_type": "markdown",
   "metadata": {},
   "source": [
    "Read data object as pandas dataframe"
   ]
  },
  {
   "cell_type": "code",
   "execution_count": 15,
   "metadata": {
    "collapsed": true,
    "scrolled": true
   },
   "outputs": [],
   "source": [
    "df = pd.read_csv(data['Body'])\n",
    "# df.columns = ['Mentor', 'Company', 'r', 'theta', 'Y']"
   ]
  },
  {
   "cell_type": "code",
   "execution_count": 16,
   "metadata": {
    "collapsed": true,
    "scrolled": true
   },
   "outputs": [],
   "source": [
    "df = df.sort_values(by='Company')"
   ]
  },
  {
   "cell_type": "code",
   "execution_count": 17,
   "metadata": {
    "collapsed": true
   },
   "outputs": [],
   "source": [
    "x, X, Y = df[df.columns[0:-1]].values, df[df.columns[2:-1]].values, df[df.columns[-1]].values"
   ]
  },
  {
   "cell_type": "markdown",
   "metadata": {},
   "source": [
    "Split data into training set and testing set (80% training, 20% test)\n",
    "\n",
    "X only contain columns of r, $\\theta$\n"
   ]
  },
  {
   "cell_type": "code",
   "execution_count": 18,
   "metadata": {
    "collapsed": true
   },
   "outputs": [],
   "source": [
    "# Splitting training set and testing set\n",
    "Xtrain, Xtest, Ytrain, Ytest = sk.model_selection.train_test_split(X,Y, test_size = 0.2, random_state = 1)"
   ]
  },
  {
   "cell_type": "markdown",
   "metadata": {},
   "source": [
    "Create dummy variables for categorical data, mentors and companies for our df2, another data frame"
   ]
  },
  {
   "cell_type": "code",
   "execution_count": 19,
   "metadata": {
    "collapsed": true
   },
   "outputs": [],
   "source": [
    "# use get_dummies to produce dummy variables\n",
    "\n",
    "\n",
    "df1 = df\n",
    "\n",
    "m_gd = pd.get_dummies(df1['Mentor'], prefix = 'Mentor')\n",
    "\n",
    "# from dummy to number\n",
    "m_gd.idxmax(axis=1)\n",
    "\n",
    "\n",
    "c_gd = pd.get_dummies(df1['Company'], prefix = 'Company')\n",
    "c_gd.idxmax(axis=1)\n",
    "\n",
    "df2 = pd.concat([df1, m_gd, c_gd], axis = 1)\n",
    "\n",
    "\n",
    "# m_le = LabelEncoder()\n",
    "# c_le = LabelEncoder()\n",
    "# Company_enc = LabelEncoder()\n",
    "\n",
    "# df1['Mentor'] = m_le.fit_transform(df1['Mentor'])\n",
    "# df1['Company'] =c_le.fit_transform(df1['Company'])\n",
    "\n"
   ]
  },
  {
   "cell_type": "code",
   "execution_count": 20,
   "metadata": {
    "collapsed": true
   },
   "outputs": [],
   "source": [
    "temp = df2['Y']\n",
    "collist = df2.columns.tolist()\n",
    "collist = collist[5:]+collist[2:5]\n",
    "df2 = df2[collist]"
   ]
  },
  {
   "cell_type": "code",
   "execution_count": 21,
   "metadata": {},
   "outputs": [
    {
     "data": {
      "text/html": [
       "<div>\n",
       "<table border=\"1\" class=\"dataframe\">\n",
       "  <thead>\n",
       "    <tr style=\"text-align: right;\">\n",
       "      <th></th>\n",
       "      <th>Mentor_Allen Malaki</th>\n",
       "      <th>Mentor_Arnaud Glatron</th>\n",
       "      <th>Mentor_Bumsoo Kim</th>\n",
       "      <th>Mentor_Cirrus Shakeri</th>\n",
       "      <th>Mentor_Crispin Read</th>\n",
       "      <th>Mentor_David Barron</th>\n",
       "      <th>Mentor_Jaap Suermondt</th>\n",
       "      <th>Mentor_Jason Kim</th>\n",
       "      <th>Mentor_Jean-Claude Janqua</th>\n",
       "      <th>Mentor_John Schlesinger</th>\n",
       "      <th>...</th>\n",
       "      <th>Company_Runner's high</th>\n",
       "      <th>Company_SCG</th>\n",
       "      <th>Company_SPRYFIT</th>\n",
       "      <th>Company_Taggle</th>\n",
       "      <th>Company_The Alpha Labs</th>\n",
       "      <th>Company_VisualCamp</th>\n",
       "      <th>Company_WhaTap Labs</th>\n",
       "      <th>r</th>\n",
       "      <th>theta</th>\n",
       "      <th>Y</th>\n",
       "    </tr>\n",
       "  </thead>\n",
       "  <tbody>\n",
       "    <tr>\n",
       "      <th>103</th>\n",
       "      <td>0</td>\n",
       "      <td>0</td>\n",
       "      <td>0</td>\n",
       "      <td>0</td>\n",
       "      <td>0</td>\n",
       "      <td>0</td>\n",
       "      <td>0</td>\n",
       "      <td>0</td>\n",
       "      <td>0</td>\n",
       "      <td>0</td>\n",
       "      <td>...</td>\n",
       "      <td>0</td>\n",
       "      <td>0</td>\n",
       "      <td>0</td>\n",
       "      <td>0</td>\n",
       "      <td>0</td>\n",
       "      <td>0</td>\n",
       "      <td>0</td>\n",
       "      <td>1.376972</td>\n",
       "      <td>46.286326</td>\n",
       "      <td>0.66</td>\n",
       "    </tr>\n",
       "    <tr>\n",
       "      <th>6</th>\n",
       "      <td>0</td>\n",
       "      <td>0</td>\n",
       "      <td>0</td>\n",
       "      <td>0</td>\n",
       "      <td>0</td>\n",
       "      <td>0</td>\n",
       "      <td>0</td>\n",
       "      <td>0</td>\n",
       "      <td>0</td>\n",
       "      <td>0</td>\n",
       "      <td>...</td>\n",
       "      <td>0</td>\n",
       "      <td>0</td>\n",
       "      <td>0</td>\n",
       "      <td>0</td>\n",
       "      <td>0</td>\n",
       "      <td>0</td>\n",
       "      <td>0</td>\n",
       "      <td>1.409992</td>\n",
       "      <td>44.900300</td>\n",
       "      <td>0.66</td>\n",
       "    </tr>\n",
       "    <tr>\n",
       "      <th>64</th>\n",
       "      <td>0</td>\n",
       "      <td>0</td>\n",
       "      <td>0</td>\n",
       "      <td>0</td>\n",
       "      <td>0</td>\n",
       "      <td>0</td>\n",
       "      <td>0</td>\n",
       "      <td>0</td>\n",
       "      <td>0</td>\n",
       "      <td>0</td>\n",
       "      <td>...</td>\n",
       "      <td>0</td>\n",
       "      <td>0</td>\n",
       "      <td>0</td>\n",
       "      <td>0</td>\n",
       "      <td>0</td>\n",
       "      <td>0</td>\n",
       "      <td>0</td>\n",
       "      <td>1.455233</td>\n",
       "      <td>43.151550</td>\n",
       "      <td>0.66</td>\n",
       "    </tr>\n",
       "    <tr>\n",
       "      <th>66</th>\n",
       "      <td>0</td>\n",
       "      <td>0</td>\n",
       "      <td>0</td>\n",
       "      <td>0</td>\n",
       "      <td>0</td>\n",
       "      <td>0</td>\n",
       "      <td>0</td>\n",
       "      <td>0</td>\n",
       "      <td>0</td>\n",
       "      <td>0</td>\n",
       "      <td>...</td>\n",
       "      <td>0</td>\n",
       "      <td>0</td>\n",
       "      <td>0</td>\n",
       "      <td>0</td>\n",
       "      <td>0</td>\n",
       "      <td>0</td>\n",
       "      <td>0</td>\n",
       "      <td>0.984023</td>\n",
       "      <td>37.702905</td>\n",
       "      <td>0.66</td>\n",
       "    </tr>\n",
       "    <tr>\n",
       "      <th>40</th>\n",
       "      <td>0</td>\n",
       "      <td>0</td>\n",
       "      <td>0</td>\n",
       "      <td>0</td>\n",
       "      <td>0</td>\n",
       "      <td>0</td>\n",
       "      <td>0</td>\n",
       "      <td>0</td>\n",
       "      <td>0</td>\n",
       "      <td>0</td>\n",
       "      <td>...</td>\n",
       "      <td>0</td>\n",
       "      <td>0</td>\n",
       "      <td>0</td>\n",
       "      <td>0</td>\n",
       "      <td>0</td>\n",
       "      <td>0</td>\n",
       "      <td>0</td>\n",
       "      <td>1.602774</td>\n",
       "      <td>46.224893</td>\n",
       "      <td>0.66</td>\n",
       "    </tr>\n",
       "  </tbody>\n",
       "</table>\n",
       "<p>5 rows × 37 columns</p>\n",
       "</div>"
      ],
      "text/plain": [
       "     Mentor_Allen Malaki  Mentor_Arnaud Glatron  Mentor_Bumsoo Kim  \\\n",
       "103                    0                      0                  0   \n",
       "6                      0                      0                  0   \n",
       "64                     0                      0                  0   \n",
       "66                     0                      0                  0   \n",
       "40                     0                      0                  0   \n",
       "\n",
       "     Mentor_Cirrus Shakeri  Mentor_Crispin Read  Mentor_David Barron  \\\n",
       "103                      0                    0                    0   \n",
       "6                        0                    0                    0   \n",
       "64                       0                    0                    0   \n",
       "66                       0                    0                    0   \n",
       "40                       0                    0                    0   \n",
       "\n",
       "     Mentor_Jaap Suermondt  Mentor_Jason Kim  Mentor_Jean-Claude Janqua  \\\n",
       "103                      0                 0                          0   \n",
       "6                        0                 0                          0   \n",
       "64                       0                 0                          0   \n",
       "66                       0                 0                          0   \n",
       "40                       0                 0                          0   \n",
       "\n",
       "     Mentor_John Schlesinger  ...   Company_Runner's high  Company_SCG  \\\n",
       "103                        0  ...                       0            0   \n",
       "6                          0  ...                       0            0   \n",
       "64                         0  ...                       0            0   \n",
       "66                         0  ...                       0            0   \n",
       "40                         0  ...                       0            0   \n",
       "\n",
       "     Company_SPRYFIT  Company_Taggle  Company_The Alpha Labs  \\\n",
       "103                0               0                       0   \n",
       "6                  0               0                       0   \n",
       "64                 0               0                       0   \n",
       "66                 0               0                       0   \n",
       "40                 0               0                       0   \n",
       "\n",
       "     Company_VisualCamp  Company_WhaTap Labs         r      theta     Y  \n",
       "103                   0                    0  1.376972  46.286326  0.66  \n",
       "6                     0                    0  1.409992  44.900300  0.66  \n",
       "64                    0                    0  1.455233  43.151550  0.66  \n",
       "66                    0                    0  0.984023  37.702905  0.66  \n",
       "40                    0                    0  1.602774  46.224893  0.66  \n",
       "\n",
       "[5 rows x 37 columns]"
      ]
     },
     "execution_count": 21,
     "metadata": {},
     "output_type": "execute_result"
    }
   ],
   "source": [
    "df2.head() # successfully convert categorical data to dummy variable and Y is on the back"
   ]
  },
  {
   "cell_type": "code",
   "execution_count": 22,
   "metadata": {
    "collapsed": true
   },
   "outputs": [],
   "source": [
    "dataX, dataY = df2[df2.columns[0:-1]].values, df2['Y'].values"
   ]
  },
  {
   "cell_type": "code",
   "execution_count": 23,
   "metadata": {
    "collapsed": true
   },
   "outputs": [],
   "source": [
    "xtrain, xtest, ytrain, ytest = sk.model_selection.train_test_split(dataX,dataY, test_size = 0.2, random_state = 1)"
   ]
  },
  {
   "cell_type": "code",
   "execution_count": 24,
   "metadata": {},
   "outputs": [
    {
     "data": {
      "text/plain": [
       "(84, 36)"
      ]
     },
     "execution_count": 24,
     "metadata": {},
     "output_type": "execute_result"
    }
   ],
   "source": [
    "# our training set dimension\n",
    "\n",
    "xtrain.shape\n"
   ]
  },
  {
   "cell_type": "code",
   "execution_count": 25,
   "metadata": {
    "collapsed": true
   },
   "outputs": [],
   "source": [
    "def baseline_model():\n",
    "\t# create baseline model, with 1 input layer, 1 output layer\n",
    "    model =Sequential()\n",
    "    model.add(Dense(72, input_dim=36, use_bias=True, \n",
    "                    kernel_initializer='normal', activation='relu'))\n",
    "    # act = keras.layers.advanced_activations.PReLU(init='zero', weights=None) # using PReLU\n",
    "    # model.add(act)\n",
    "    model.add(Dense(1, kernel_initializer='normal'))\n",
    "    act = keras.layers.PReLU(alpha_initializer='zeros',\n",
    "                             alpha_regularizer=None, \n",
    "                             alpha_constraint=None, shared_axes=None)\n",
    "    model.add(act)\n",
    "    # Compile model\n",
    "    model.compile(loss='mean_squared_error', optimizer='adam')\n",
    "    return model\n"
   ]
  },
  {
   "cell_type": "code",
   "execution_count": 26,
   "metadata": {},
   "outputs": [
    {
     "name": "stdout",
     "output_type": "stream",
     "text": [
      "The model is: 0.00241493 (0.00241742) MSE\n"
     ]
    }
   ],
   "source": [
    "# evaluate model with standardized dataset\n",
    "estimators = []\n",
    "estimators.append(('standardize', StandardScaler()))\n",
    "# keras models can be used in scikit learn by wrapping them with Keras classifier or keras regressor class.\n",
    "# To use these wrappers you must define a function that creates and returns your keras sequential model, then pass this function to the builf_fn argument when constructing kerasclassifier/kerasregressor\n",
    "model = KerasRegressor(build_fn=baseline_model, epochs=50, batch_size=10, verbose=0)\n",
    "estimators.append(('mlp', model))\n",
    "pipeline_baseline = Pipeline(estimators)\n",
    "kfold = KFold(n_splits=10, random_state=seed)\n",
    "results = cross_val_score(pipeline_baseline, xtrain, ytrain, cv=kfold)\n",
    "print(\"The model is: %.8f (%.8f) MSE\" % (results.mean(), results.std()))\n",
    "\n",
    "# 0.00733066 (0.00476616) for no dummies, just r and theta baseline"
   ]
  },
  {
   "cell_type": "code",
   "execution_count": 27,
   "metadata": {
    "scrolled": true
   },
   "outputs": [
    {
     "data": {
      "text/plain": [
       "array([ 0.75444496,  0.79143214,  0.6086123 ,  0.69081163,  0.62373579,\n",
       "        0.82630593,  0.76187342,  0.83547586,  0.69479567,  0.79048502,\n",
       "        0.49825433,  0.79823649,  0.71325451,  0.73181409,  0.81936258,\n",
       "        0.83466786,  0.80761892,  0.80919814,  0.81655931,  0.74332994,\n",
       "        0.88429785,  0.68295002], dtype=float32)"
      ]
     },
     "execution_count": 27,
     "metadata": {},
     "output_type": "execute_result"
    }
   ],
   "source": [
    "# Set parameters for our neural network and train our NN with X and Y\n",
    "# nb_epoch = 100, verbose = 0, batch_size = 5, build_fn=larger_PReLU_adadelta_model\n",
    "pipeline_baseline.set_params().fit(xtrain,ytrain)\n",
    "#nb_epoch = 100, verbose = 0, batch_size = 5, build_fn=larger_PReLU_adadelta_model\n",
    "prediction_baseline = pipeline_baseline.predict(xtest)\n",
    "prediction_baseline"
   ]
  },
  {
   "cell_type": "markdown",
   "metadata": {},
   "source": [
    "Using our derived objective function as activation function for input layer,\n",
    "\n",
    "<center>\n",
    "f(r,$\\theta$) = 2r sin($\\theta$ - $\\pi$/4) in radian </center>"
   ]
  },
  {
   "cell_type": "code",
   "execution_count": 28,
   "metadata": {
    "collapsed": true
   },
   "outputs": [],
   "source": [
    "# Create own custom activation function\n",
    "\n",
    "\n",
    "def custom_activation(x):\n",
    "    # print(type(x)) # use to debug\n",
    "    return (2*x*K.sin(x*180/math.pi-math.pi/4)) # in rad, changed from sin to cos\n",
    "\n",
    "get_custom_objects().update({'custom_activation': Activation(custom_activation)})\n",
    "\n"
   ]
  },
  {
   "cell_type": "code",
   "execution_count": null,
   "metadata": {
    "collapsed": true
   },
   "outputs": [],
   "source": []
  },
  {
   "cell_type": "markdown",
   "metadata": {},
   "source": [
    "Since Keras doesn't have a built-in Huber Loss, so we will be creating the loss in a robust way with tensorflow backend.\n",
    "\n",
    "$$L(y-\\hat{y}) = \\begin{cases} \\frac{1}{2}(y-\\hat{y})^2 & if &| y-\\hat{y} | \\leq \\delta \\\\\n",
    "                               \\delta |y-\\hat{y}| -\\frac{1}{2} \\delta^2 & o.w. \\\\\n",
    "                               \\end{cases}$$\n"
   ]
  },
  {
   "cell_type": "code",
   "execution_count": 29,
   "metadata": {
    "collapsed": true
   },
   "outputs": [],
   "source": [
    "def huber_loss(y_true, y_pred, clip_delta = 1.0):\n",
    "    error = y_true -y_pred\n",
    "    cond = K.abs(error)<clip_delta\n",
    "    \n",
    "    squared_loss = 0.5*K.square(error)\n",
    "    \n",
    "    linear_loss = clip_delta*(K.abs(error)-0.5*clip_delta)\n",
    "    \n",
    "    return tf.where(cond, squared_loss, linear_loss)\n",
    "\n",
    "\n",
    "def huber_loss_mean(y_true, y_pred, clip_delta=1.0):\n",
    "    return K.mean(huber_loss(y_true, y_pred, clip_delta))\n",
    "\n"
   ]
  },
  {
   "cell_type": "markdown",
   "metadata": {},
   "source": [
    "We are including parameters that we want to consider in GridSearch.\n",
    "\n",
    "GridSearch essentially is just **trying every single combination of parameters. Thus, as we have more parameters, it takes more time to tune our NN.**\n",
    "\n",
    "Also, in this script we didn't make any grid search Neuron1, Neuron2 (number of units for input layer and Hidden layer respectively); I expect our model's performance will be underperforming. The GridSearchCV runtime grows exponentially when we include more and new parameters. \n",
    "\n",
    "There are some algorithm and software out there to speed up the process of hyperparameter tuning. And we will be using hyperas, hyperopt to find our actual parameter for our model (refer to Keras-kopt-3MCNet-two-variables-final.ipynb and Keras-kopt-3MCNet-four-variables-final.ipynb)."
   ]
  },
  {
   "cell_type": "code",
   "execution_count": 30,
   "metadata": {
    "collapsed": true
   },
   "outputs": [],
   "source": [
    "optimizer = ['adam','adadelta']\n",
    "loss = ['mean_squared_error', huber_loss] \n",
    "metrics = ['mse'] # added huber_loss_mean\n",
    "activation = ['custom_activation','relu']\n",
    "# Neuron1 = [2,4,5,6,9,18,36,72]\n",
    "# Neuron2 = [1,2,4,16,32,64]\n",
    "batch_size = [5,10,15, 100]\n",
    "epochs = [50,100,200]"
   ]
  },
  {
   "cell_type": "markdown",
   "metadata": {},
   "source": [
    "This is a general architecture that our gridsearch will use\n",
    "\n",
    "As we have more time (our later version of Portal system), we can also have a changing architecture that we can tune our model with."
   ]
  },
  {
   "cell_type": "code",
   "execution_count": 31,
   "metadata": {
    "collapsed": true
   },
   "outputs": [],
   "source": [
    "# Developing the framework for gridsearch in order for Hyperparameter tuning\n",
    "\n",
    "def genModel(optimizer = 'adadelta', loss = 'mean_squared_error', activation = 'relu', ouput = None):\n",
    "\n",
    "    model = Sequential()\n",
    "    model.add(Dense(72, input_dim = 36, kernel_initializer = 'normal', use_bias=True,\n",
    "                      activation = activation,bias_initializer=\"zeros\")) \n",
    "    \n",
    "    model.add(Dense(36, kernel_regularizer = keras.regularizers.l1_l2(l1=0.01, l2=0.01),\n",
    "                   activity_regularizer = keras.regularizers.l1_l2(l1=0.01, l2=0.01)))\n",
    "    \n",
    "    act = keras.layers.PReLU(alpha_initializer='zeros', \n",
    "                             alpha_regularizer=None, \n",
    "                             alpha_constraint=None, shared_axes=None)\n",
    "\n",
    "    model.add(act)\n",
    "    \n",
    "    model.add(Dense(1, kernel_initializer= \"normal\", use_bias=True)) \n",
    "    \n",
    "    model.compile(loss = loss, optimizer = optimizer, metrics = ['mse'])  #loss = loss, metrics = metrics\n",
    "\n",
    "    # out = model.fit(X_train, Y_train, batch_size = params['batch_size'], epochs=params['epochs'], verbose = 0, validation_data = [X_test, Y_test])\n",
    "\n",
    "    return model #out,"
   ]
  },
  {
   "cell_type": "code",
   "execution_count": 32,
   "metadata": {
    "collapsed": true
   },
   "outputs": [],
   "source": [
    "# Compile our parameters list into a dictionary\n",
    "\n",
    "param_grid = dict(optimizer=optimizer, loss=loss, activation=activation,\n",
    "                  batch_size=batch_size, epochs=epochs)\n"
   ]
  },
  {
   "cell_type": "code",
   "execution_count": 33,
   "metadata": {
    "collapsed": true
   },
   "outputs": [],
   "source": [
    "# Use Keras Regressor to wrap around our genModel, and additional parameters like epochs, batch_size\n",
    "model = KerasRegressor(build_fn=genModel, epochs=epochs, batch_size=batch_size, verbose=0)\n"
   ]
  },
  {
   "cell_type": "code",
   "execution_count": 34,
   "metadata": {
    "collapsed": true
   },
   "outputs": [],
   "source": [
    "\n",
    "\n",
    "# Grid search is bascically search thru all combinations of parameters\n",
    "grid = GridSearchCV(estimator = model, param_grid = param_grid,\n",
    "                    n_jobs=1, scoring =  'neg_mean_squared_error') \n",
    "#scoring is subject to change, scoring = mean_squared_error\n",
    "# n_jobs =-1?  the number of jobs is set to the number of cores. 1> 1 core "
   ]
  },
  {
   "cell_type": "code",
   "execution_count": 35,
   "metadata": {
    "collapsed": true,
    "scrolled": false
   },
   "outputs": [],
   "source": [
    "# Now we fit out grid into our training set (r, theta, Mentor, Company)\n",
    "# and supress the warning notification\n",
    "\n",
    "### This will take around 50-60 minutes on GPU\n",
    "\n",
    "with warnings.catch_warnings():\n",
    "    warnings.simplefilter(\"ignore\")\n",
    "    grid_result = grid.fit(xtrain,ytrain)"
   ]
  },
  {
   "cell_type": "code",
   "execution_count": 36,
   "metadata": {},
   "outputs": [
    {
     "name": "stdout",
     "output_type": "stream",
     "text": [
      "Best: -0.002422 using {'batch_size': 5, 'epochs': 100, 'optimizer': 'adam', 'activation': 'relu', 'loss': 'mean_squared_error'}\n",
      "-0.287609 (0.191760) with: {'batch_size': 5, 'epochs': 50, 'optimizer': 'adam', 'activation': 'custom_activation', 'loss': 'mean_squared_error'}\n",
      "-0.737504 (0.211124) with: {'batch_size': 5, 'epochs': 50, 'optimizer': 'adadelta', 'activation': 'custom_activation', 'loss': 'mean_squared_error'}\n",
      "-0.071169 (0.002445) with: {'batch_size': 5, 'epochs': 50, 'optimizer': 'adam', 'activation': 'custom_activation', 'loss': <function huber_loss at 0x7fe5fe132268>}\n",
      "-0.644991 (0.408745) with: {'batch_size': 5, 'epochs': 50, 'optimizer': 'adadelta', 'activation': 'custom_activation', 'loss': <function huber_loss at 0x7fe5fe132268>}\n",
      "-0.025302 (0.003712) with: {'batch_size': 5, 'epochs': 100, 'optimizer': 'adam', 'activation': 'custom_activation', 'loss': 'mean_squared_error'}\n",
      "-0.317611 (0.158788) with: {'batch_size': 5, 'epochs': 100, 'optimizer': 'adadelta', 'activation': 'custom_activation', 'loss': 'mean_squared_error'}\n",
      "-0.011959 (0.001892) with: {'batch_size': 5, 'epochs': 100, 'optimizer': 'adam', 'activation': 'custom_activation', 'loss': <function huber_loss at 0x7fe5fe132268>}\n",
      "-0.266648 (0.101947) with: {'batch_size': 5, 'epochs': 100, 'optimizer': 'adadelta', 'activation': 'custom_activation', 'loss': <function huber_loss at 0x7fe5fe132268>}\n",
      "-0.005013 (0.001210) with: {'batch_size': 5, 'epochs': 200, 'optimizer': 'adam', 'activation': 'custom_activation', 'loss': 'mean_squared_error'}\n",
      "-0.065376 (0.033847) with: {'batch_size': 5, 'epochs': 200, 'optimizer': 'adadelta', 'activation': 'custom_activation', 'loss': 'mean_squared_error'}\n",
      "-0.004321 (0.000674) with: {'batch_size': 5, 'epochs': 200, 'optimizer': 'adam', 'activation': 'custom_activation', 'loss': <function huber_loss at 0x7fe5fe132268>}\n",
      "-0.021946 (0.014636) with: {'batch_size': 5, 'epochs': 200, 'optimizer': 'adadelta', 'activation': 'custom_activation', 'loss': <function huber_loss at 0x7fe5fe132268>}\n",
      "-0.246606 (0.062448) with: {'batch_size': 10, 'epochs': 50, 'optimizer': 'adam', 'activation': 'custom_activation', 'loss': 'mean_squared_error'}\n",
      "-1.139223 (0.260289) with: {'batch_size': 10, 'epochs': 50, 'optimizer': 'adadelta', 'activation': 'custom_activation', 'loss': 'mean_squared_error'}\n",
      "-0.173988 (0.036383) with: {'batch_size': 10, 'epochs': 50, 'optimizer': 'adam', 'activation': 'custom_activation', 'loss': <function huber_loss at 0x7fe5fe132268>}\n",
      "-1.025186 (0.462409) with: {'batch_size': 10, 'epochs': 50, 'optimizer': 'adadelta', 'activation': 'custom_activation', 'loss': <function huber_loss at 0x7fe5fe132268>}\n",
      "-0.069686 (0.002781) with: {'batch_size': 10, 'epochs': 100, 'optimizer': 'adam', 'activation': 'custom_activation', 'loss': 'mean_squared_error'}\n",
      "-0.711416 (0.290826) with: {'batch_size': 10, 'epochs': 100, 'optimizer': 'adadelta', 'activation': 'custom_activation', 'loss': 'mean_squared_error'}\n",
      "-0.060578 (0.013309) with: {'batch_size': 10, 'epochs': 100, 'optimizer': 'adam', 'activation': 'custom_activation', 'loss': <function huber_loss at 0x7fe5fe132268>}\n",
      "-0.200640 (0.063319) with: {'batch_size': 10, 'epochs': 100, 'optimizer': 'adadelta', 'activation': 'custom_activation', 'loss': <function huber_loss at 0x7fe5fe132268>}\n",
      "-0.016529 (0.006840) with: {'batch_size': 10, 'epochs': 200, 'optimizer': 'adam', 'activation': 'custom_activation', 'loss': 'mean_squared_error'}\n",
      "-0.084726 (0.012983) with: {'batch_size': 10, 'epochs': 200, 'optimizer': 'adadelta', 'activation': 'custom_activation', 'loss': 'mean_squared_error'}\n",
      "-0.011619 (0.003134) with: {'batch_size': 10, 'epochs': 200, 'optimizer': 'adam', 'activation': 'custom_activation', 'loss': <function huber_loss at 0x7fe5fe132268>}\n",
      "-0.065611 (0.010265) with: {'batch_size': 10, 'epochs': 200, 'optimizer': 'adadelta', 'activation': 'custom_activation', 'loss': <function huber_loss at 0x7fe5fe132268>}\n",
      "-0.448722 (0.120863) with: {'batch_size': 15, 'epochs': 50, 'optimizer': 'adam', 'activation': 'custom_activation', 'loss': 'mean_squared_error'}\n",
      "-1.157382 (0.271119) with: {'batch_size': 15, 'epochs': 50, 'optimizer': 'adadelta', 'activation': 'custom_activation', 'loss': 'mean_squared_error'}\n",
      "-0.208698 (0.052621) with: {'batch_size': 15, 'epochs': 50, 'optimizer': 'adam', 'activation': 'custom_activation', 'loss': <function huber_loss at 0x7fe5fe132268>}\n",
      "-1.399311 (0.878122) with: {'batch_size': 15, 'epochs': 50, 'optimizer': 'adadelta', 'activation': 'custom_activation', 'loss': <function huber_loss at 0x7fe5fe132268>}\n",
      "-0.187410 (0.044885) with: {'batch_size': 15, 'epochs': 100, 'optimizer': 'adam', 'activation': 'custom_activation', 'loss': 'mean_squared_error'}\n",
      "-0.452130 (0.119134) with: {'batch_size': 15, 'epochs': 100, 'optimizer': 'adadelta', 'activation': 'custom_activation', 'loss': 'mean_squared_error'}\n",
      "-0.098348 (0.011198) with: {'batch_size': 15, 'epochs': 100, 'optimizer': 'adam', 'activation': 'custom_activation', 'loss': <function huber_loss at 0x7fe5fe132268>}\n",
      "-0.323653 (0.081801) with: {'batch_size': 15, 'epochs': 100, 'optimizer': 'adadelta', 'activation': 'custom_activation', 'loss': <function huber_loss at 0x7fe5fe132268>}\n",
      "-0.030577 (0.005077) with: {'batch_size': 15, 'epochs': 200, 'optimizer': 'adam', 'activation': 'custom_activation', 'loss': 'mean_squared_error'}\n",
      "-0.215422 (0.079013) with: {'batch_size': 15, 'epochs': 200, 'optimizer': 'adadelta', 'activation': 'custom_activation', 'loss': 'mean_squared_error'}\n",
      "-0.030780 (0.007713) with: {'batch_size': 15, 'epochs': 200, 'optimizer': 'adam', 'activation': 'custom_activation', 'loss': <function huber_loss at 0x7fe5fe132268>}\n",
      "-0.146252 (0.037253) with: {'batch_size': 15, 'epochs': 200, 'optimizer': 'adadelta', 'activation': 'custom_activation', 'loss': <function huber_loss at 0x7fe5fe132268>}\n",
      "-0.661486 (0.289988) with: {'batch_size': 100, 'epochs': 50, 'optimizer': 'adam', 'activation': 'custom_activation', 'loss': 'mean_squared_error'}\n",
      "-2.625407 (1.591214) with: {'batch_size': 100, 'epochs': 50, 'optimizer': 'adadelta', 'activation': 'custom_activation', 'loss': 'mean_squared_error'}\n",
      "-1.107393 (0.692223) with: {'batch_size': 100, 'epochs': 50, 'optimizer': 'adam', 'activation': 'custom_activation', 'loss': <function huber_loss at 0x7fe5fe132268>}\n",
      "-1.876136 (0.818626) with: {'batch_size': 100, 'epochs': 50, 'optimizer': 'adadelta', 'activation': 'custom_activation', 'loss': <function huber_loss at 0x7fe5fe132268>}\n",
      "-0.374737 (0.044916) with: {'batch_size': 100, 'epochs': 100, 'optimizer': 'adam', 'activation': 'custom_activation', 'loss': 'mean_squared_error'}\n",
      "-1.234500 (0.606516) with: {'batch_size': 100, 'epochs': 100, 'optimizer': 'adadelta', 'activation': 'custom_activation', 'loss': 'mean_squared_error'}\n",
      "-0.296082 (0.060887) with: {'batch_size': 100, 'epochs': 100, 'optimizer': 'adam', 'activation': 'custom_activation', 'loss': <function huber_loss at 0x7fe5fe132268>}\n",
      "-0.761314 (0.189384) with: {'batch_size': 100, 'epochs': 100, 'optimizer': 'adadelta', 'activation': 'custom_activation', 'loss': <function huber_loss at 0x7fe5fe132268>}\n",
      "-0.530948 (0.265076) with: {'batch_size': 100, 'epochs': 200, 'optimizer': 'adam', 'activation': 'custom_activation', 'loss': 'mean_squared_error'}\n",
      "-1.220845 (0.067842) with: {'batch_size': 100, 'epochs': 200, 'optimizer': 'adadelta', 'activation': 'custom_activation', 'loss': 'mean_squared_error'}\n",
      "-0.529737 (0.254633) with: {'batch_size': 100, 'epochs': 200, 'optimizer': 'adam', 'activation': 'custom_activation', 'loss': <function huber_loss at 0x7fe5fe132268>}\n",
      "-0.462708 (0.273527) with: {'batch_size': 100, 'epochs': 200, 'optimizer': 'adadelta', 'activation': 'custom_activation', 'loss': <function huber_loss at 0x7fe5fe132268>}\n",
      "-0.009765 (0.007727) with: {'batch_size': 5, 'epochs': 50, 'optimizer': 'adam', 'activation': 'relu', 'loss': 'mean_squared_error'}\n",
      "-0.008529 (0.002769) with: {'batch_size': 5, 'epochs': 50, 'optimizer': 'adadelta', 'activation': 'relu', 'loss': 'mean_squared_error'}\n",
      "-0.017064 (0.004023) with: {'batch_size': 5, 'epochs': 50, 'optimizer': 'adam', 'activation': 'relu', 'loss': <function huber_loss at 0x7fe5fe132268>}\n",
      "-0.066680 (0.056422) with: {'batch_size': 5, 'epochs': 50, 'optimizer': 'adadelta', 'activation': 'relu', 'loss': <function huber_loss at 0x7fe5fe132268>}\n",
      "-0.002422 (0.000896) with: {'batch_size': 5, 'epochs': 100, 'optimizer': 'adam', 'activation': 'relu', 'loss': 'mean_squared_error'}\n",
      "-0.006663 (0.002795) with: {'batch_size': 5, 'epochs': 100, 'optimizer': 'adadelta', 'activation': 'relu', 'loss': 'mean_squared_error'}\n",
      "-0.005474 (0.001307) with: {'batch_size': 5, 'epochs': 100, 'optimizer': 'adam', 'activation': 'relu', 'loss': <function huber_loss at 0x7fe5fe132268>}\n",
      "-0.019775 (0.019164) with: {'batch_size': 5, 'epochs': 100, 'optimizer': 'adadelta', 'activation': 'relu', 'loss': <function huber_loss at 0x7fe5fe132268>}\n",
      "-0.003720 (0.002094) with: {'batch_size': 5, 'epochs': 200, 'optimizer': 'adam', 'activation': 'relu', 'loss': 'mean_squared_error'}\n",
      "-0.008486 (0.006545) with: {'batch_size': 5, 'epochs': 200, 'optimizer': 'adadelta', 'activation': 'relu', 'loss': 'mean_squared_error'}\n",
      "-0.003847 (0.000206) with: {'batch_size': 5, 'epochs': 200, 'optimizer': 'adam', 'activation': 'relu', 'loss': <function huber_loss at 0x7fe5fe132268>}\n",
      "-0.004680 (0.002733) with: {'batch_size': 5, 'epochs': 200, 'optimizer': 'adadelta', 'activation': 'relu', 'loss': <function huber_loss at 0x7fe5fe132268>}\n",
      "-0.054390 (0.005573) with: {'batch_size': 10, 'epochs': 50, 'optimizer': 'adam', 'activation': 'relu', 'loss': 'mean_squared_error'}\n",
      "-0.066660 (0.024188) with: {'batch_size': 10, 'epochs': 50, 'optimizer': 'adadelta', 'activation': 'relu', 'loss': 'mean_squared_error'}\n",
      "-0.133765 (0.022316) with: {'batch_size': 10, 'epochs': 50, 'optimizer': 'adam', 'activation': 'relu', 'loss': <function huber_loss at 0x7fe5fe132268>}\n",
      "-0.057485 (0.021268) with: {'batch_size': 10, 'epochs': 50, 'optimizer': 'adadelta', 'activation': 'relu', 'loss': <function huber_loss at 0x7fe5fe132268>}\n",
      "-0.016162 (0.007627) with: {'batch_size': 10, 'epochs': 100, 'optimizer': 'adam', 'activation': 'relu', 'loss': 'mean_squared_error'}\n",
      "-0.062010 (0.071885) with: {'batch_size': 10, 'epochs': 100, 'optimizer': 'adadelta', 'activation': 'relu', 'loss': 'mean_squared_error'}\n",
      "-0.022568 (0.004735) with: {'batch_size': 10, 'epochs': 100, 'optimizer': 'adam', 'activation': 'relu', 'loss': <function huber_loss at 0x7fe5fe132268>}\n",
      "-0.013387 (0.006229) with: {'batch_size': 10, 'epochs': 100, 'optimizer': 'adadelta', 'activation': 'relu', 'loss': <function huber_loss at 0x7fe5fe132268>}\n",
      "-0.005822 (0.000246) with: {'batch_size': 10, 'epochs': 200, 'optimizer': 'adam', 'activation': 'relu', 'loss': 'mean_squared_error'}\n",
      "-0.023181 (0.007647) with: {'batch_size': 10, 'epochs': 200, 'optimizer': 'adadelta', 'activation': 'relu', 'loss': 'mean_squared_error'}\n",
      "-0.005835 (0.000580) with: {'batch_size': 10, 'epochs': 200, 'optimizer': 'adam', 'activation': 'relu', 'loss': <function huber_loss at 0x7fe5fe132268>}\n",
      "-0.023831 (0.007994) with: {'batch_size': 10, 'epochs': 200, 'optimizer': 'adadelta', 'activation': 'relu', 'loss': <function huber_loss at 0x7fe5fe132268>}\n",
      "-0.165977 (0.022918) with: {'batch_size': 15, 'epochs': 50, 'optimizer': 'adam', 'activation': 'relu', 'loss': 'mean_squared_error'}\n",
      "-0.074787 (0.013687) with: {'batch_size': 15, 'epochs': 50, 'optimizer': 'adadelta', 'activation': 'relu', 'loss': 'mean_squared_error'}\n",
      "-0.270013 (0.025898) with: {'batch_size': 15, 'epochs': 50, 'optimizer': 'adam', 'activation': 'relu', 'loss': <function huber_loss at 0x7fe5fe132268>}\n",
      "-0.151237 (0.058325) with: {'batch_size': 15, 'epochs': 50, 'optimizer': 'adadelta', 'activation': 'relu', 'loss': <function huber_loss at 0x7fe5fe132268>}\n",
      "-0.079844 (0.025111) with: {'batch_size': 15, 'epochs': 100, 'optimizer': 'adam', 'activation': 'relu', 'loss': 'mean_squared_error'}\n",
      "-0.095152 (0.095430) with: {'batch_size': 15, 'epochs': 100, 'optimizer': 'adadelta', 'activation': 'relu', 'loss': 'mean_squared_error'}\n",
      "-0.130535 (0.018040) with: {'batch_size': 15, 'epochs': 100, 'optimizer': 'adam', 'activation': 'relu', 'loss': <function huber_loss at 0x7fe5fe132268>}\n",
      "-0.041120 (0.017365) with: {'batch_size': 15, 'epochs': 100, 'optimizer': 'adadelta', 'activation': 'relu', 'loss': <function huber_loss at 0x7fe5fe132268>}\n",
      "-0.015600 (0.006397) with: {'batch_size': 15, 'epochs': 200, 'optimizer': 'adam', 'activation': 'relu', 'loss': 'mean_squared_error'}\n",
      "-0.025419 (0.015274) with: {'batch_size': 15, 'epochs': 200, 'optimizer': 'adadelta', 'activation': 'relu', 'loss': 'mean_squared_error'}\n",
      "-0.023468 (0.003779) with: {'batch_size': 15, 'epochs': 200, 'optimizer': 'adam', 'activation': 'relu', 'loss': <function huber_loss at 0x7fe5fe132268>}\n",
      "-0.047941 (0.034109) with: {'batch_size': 15, 'epochs': 200, 'optimizer': 'adadelta', 'activation': 'relu', 'loss': <function huber_loss at 0x7fe5fe132268>}\n",
      "-0.393901 (0.006217) with: {'batch_size': 100, 'epochs': 50, 'optimizer': 'adam', 'activation': 'relu', 'loss': 'mean_squared_error'}\n",
      "-0.438218 (0.022523) with: {'batch_size': 100, 'epochs': 50, 'optimizer': 'adadelta', 'activation': 'relu', 'loss': 'mean_squared_error'}\n",
      "-0.443808 (0.022168) with: {'batch_size': 100, 'epochs': 50, 'optimizer': 'adam', 'activation': 'relu', 'loss': <function huber_loss at 0x7fe5fe132268>}\n",
      "-0.408260 (0.054829) with: {'batch_size': 100, 'epochs': 50, 'optimizer': 'adadelta', 'activation': 'relu', 'loss': <function huber_loss at 0x7fe5fe132268>}\n",
      "-0.391940 (0.023677) with: {'batch_size': 100, 'epochs': 100, 'optimizer': 'adam', 'activation': 'relu', 'loss': 'mean_squared_error'}\n",
      "-0.381977 (0.099108) with: {'batch_size': 100, 'epochs': 100, 'optimizer': 'adadelta', 'activation': 'relu', 'loss': 'mean_squared_error'}\n",
      "-0.366270 (0.035648) with: {'batch_size': 100, 'epochs': 100, 'optimizer': 'adam', 'activation': 'relu', 'loss': <function huber_loss at 0x7fe5fe132268>}\n",
      "-0.260318 (0.051002) with: {'batch_size': 100, 'epochs': 100, 'optimizer': 'adadelta', 'activation': 'relu', 'loss': <function huber_loss at 0x7fe5fe132268>}\n",
      "-0.309118 (0.024506) with: {'batch_size': 100, 'epochs': 200, 'optimizer': 'adam', 'activation': 'relu', 'loss': 'mean_squared_error'}\n",
      "-0.259356 (0.045268) with: {'batch_size': 100, 'epochs': 200, 'optimizer': 'adadelta', 'activation': 'relu', 'loss': 'mean_squared_error'}\n",
      "-0.290188 (0.011145) with: {'batch_size': 100, 'epochs': 200, 'optimizer': 'adam', 'activation': 'relu', 'loss': <function huber_loss at 0x7fe5fe132268>}\n",
      "-0.195975 (0.065780) with: {'batch_size': 100, 'epochs': 200, 'optimizer': 'adadelta', 'activation': 'relu', 'loss': <function huber_loss at 0x7fe5fe132268>}\n"
     ]
    }
   ],
   "source": [
    "# summarize results\n",
    "\n",
    "\n",
    "print(\"Best: %f using %s\" % (grid_result.best_score_, grid_result.best_params_))\n",
    "means = grid_result.cv_results_['mean_test_score']\n",
    "stds = grid_result.cv_results_['std_test_score']\n",
    "params = grid_result.cv_results_['params']\n",
    "for mean, stdev, param in zip(means, stds, params):\n",
    "    print(\"%f (%f) with: %r\" % (mean, stdev, param))\n"
   ]
  },
  {
   "cell_type": "code",
   "execution_count": 37,
   "metadata": {},
   "outputs": [
    {
     "data": {
      "text/plain": [
       "{'activation': 'relu',\n",
       " 'batch_size': 5,\n",
       " 'epochs': 100,\n",
       " 'loss': 'mean_squared_error',\n",
       " 'optimizer': 'adam'}"
      ]
     },
     "execution_count": 37,
     "metadata": {},
     "output_type": "execute_result"
    }
   ],
   "source": [
    "\n",
    "grid_result.best_params_"
   ]
  },
  {
   "cell_type": "markdown",
   "metadata": {},
   "source": [
    "After fitting our training set to our grid, this is our best parameter"
   ]
  },
  {
   "cell_type": "code",
   "execution_count": 38,
   "metadata": {},
   "outputs": [
    {
     "data": {
      "text/plain": [
       "{'activation': 'relu',\n",
       " 'batch_size': 5,\n",
       " 'epochs': 100,\n",
       " 'loss': 'mean_squared_error',\n",
       " 'optimizer': 'adam'}"
      ]
     },
     "execution_count": 38,
     "metadata": {},
     "output_type": "execute_result"
    }
   ],
   "source": [
    "\n",
    "bestParams = grid_result.best_params_\n",
    "\n",
    "\n",
    "bestParams"
   ]
  },
  {
   "cell_type": "markdown",
   "metadata": {},
   "source": [
    "It turns out that our custom activation doesn't perform well.\n",
    "\n",
    "As I was looking at the archecture, in order to better use (r,theta) data, we should create a performance network before feeding into our 3MCNet with mentor-mentee pair (similar with Recurrent Neural Network).\n",
    "\n",
    "\n"
   ]
  },
  {
   "cell_type": "code",
   "execution_count": 39,
   "metadata": {
    "collapsed": true
   },
   "outputs": [],
   "source": [
    "def bestModel():\n",
    "\n",
    "    model = Sequential()\n",
    "    model.add(Dense(36, input_dim =36, kernel_initializer = 'normal', \n",
    "                    activation = bestParams['activation'], bias_initializer=\"zeros\")) \n",
    "    \n",
    "    \n",
    "    \n",
    "    # act = keras.layers.PReLU(alpha_initializer='zeros', alpha_regularizer=None, alpha_constraint=None, shared_axes=None)\n",
    "    act = keras.layers.PReLU(alpha_initializer='zeros', alpha_regularizer=None,\n",
    "                             alpha_constraint=None, shared_axes=None)\n",
    "    \n",
    "    model.add(Dense(18))\n",
    "    model.add(act)\n",
    "    model.add(Dense(1, kernel_initializer= \"normal\")) \n",
    "    model.compile(loss = bestParams['loss'], optimizer = bestParams['optimizer'],\n",
    "                  metrics = ['mse'])   # bestParams['metrics']\n",
    "\n",
    "        #loss = loss, metrics = metrics\n",
    "\n",
    "        # out = model.fit(X_train, Y_train, batch_size = params['batch_size'], epochs=params['epochs'], verbose = 0, validation_data = [X_test, Y_test])\n",
    "\n",
    "    return model"
   ]
  },
  {
   "cell_type": "code",
   "execution_count": 40,
   "metadata": {},
   "outputs": [
    {
     "name": "stdout",
     "output_type": "stream",
     "text": [
      "The model is: 0.00161501 (0.00196940) MSE\n"
     ]
    }
   ],
   "source": [
    "# Establish data pipeline for estmators\n",
    "\n",
    "estimators = []\n",
    "estimators.append(('standardize', StandardScaler()))\n",
    "estimators.append(('mlp', KerasRegressor(build_fn=bestModel, epochs=bestParams['epochs'],\n",
    "                                         batch_size=bestParams['batch_size'], verbose=0)))\n",
    "pipeline_bestModel = Pipeline(estimators)\n",
    "kfold = KFold(n_splits=10, random_state=seed)\n",
    "results = cross_val_score(pipeline_bestModel, xtrain, ytrain, cv=kfold)\n",
    "print(\"The model is: %.8f (%.8f) MSE\" % (results.mean(), results.std()))"
   ]
  },
  {
   "cell_type": "code",
   "execution_count": 41,
   "metadata": {
    "collapsed": true
   },
   "outputs": [],
   "source": [
    "pipeline_bestModel.set_params().fit(xtrain,ytrain)\n",
    "\n",
    "prediction_bestModel = pipeline_bestModel.predict(xtest)\n"
   ]
  },
  {
   "cell_type": "code",
   "execution_count": 42,
   "metadata": {},
   "outputs": [
    {
     "data": {
      "text/plain": [
       "array([ 0.76771015,  0.79002774,  0.73537511,  0.71198994,  0.74494666,\n",
       "        0.77739334,  0.59973699,  0.82447535,  0.69918323,  0.79953891,\n",
       "        0.73943156,  0.80039287,  0.71017653,  0.70341617,  0.75938088,\n",
       "        0.80699372,  0.80872113,  0.80988944,  0.80982351,  0.7149418 ,\n",
       "        0.84071088,  0.8509348 ], dtype=float32)"
      ]
     },
     "execution_count": 42,
     "metadata": {},
     "output_type": "execute_result"
    }
   ],
   "source": [
    "prediction_bestModel"
   ]
  },
  {
   "cell_type": "code",
   "execution_count": 43,
   "metadata": {},
   "outputs": [
    {
     "data": {
      "text/plain": [
       "array([ 0.75444496,  0.79143214,  0.6086123 ,  0.69081163,  0.62373579,\n",
       "        0.82630593,  0.76187342,  0.83547586,  0.69479567,  0.79048502,\n",
       "        0.49825433,  0.79823649,  0.71325451,  0.73181409,  0.81936258,\n",
       "        0.83466786,  0.80761892,  0.80919814,  0.81655931,  0.74332994,\n",
       "        0.88429785,  0.68295002], dtype=float32)"
      ]
     },
     "execution_count": 43,
     "metadata": {},
     "output_type": "execute_result"
    }
   ],
   "source": [
    "prediction_baseline"
   ]
  },
  {
   "cell_type": "code",
   "execution_count": 44,
   "metadata": {},
   "outputs": [
    {
     "data": {
      "text/plain": [
       "array([ 0.66      ,  0.66      ,  0.66      ,  0.66      ,  0.66      ,\n",
       "        0.69714286,  0.69714286,  0.69714286,  0.69714286,  0.69714286,\n",
       "        0.69714286,  0.81714286,  0.75      ,  0.81714286,  0.81714286,\n",
       "        0.75      ,  0.75      ,  0.81714286,  0.81714286,  0.75      ,\n",
       "        0.81714286,  0.75      ,  0.71      ,  0.76      ,  0.71      ,\n",
       "        0.76      ,  0.71      ,  0.71      ,  0.76      ,  0.76      ,\n",
       "        0.76      ,  0.71      ,  0.8       ,  0.8       ,  0.8       ,\n",
       "        0.8       ,  0.71      ,  0.71      ,  0.8       ,  0.71      ,\n",
       "        0.71      ,  0.8       ,  0.8       ,  0.61      ,  0.8       ,\n",
       "        0.61      ,  0.61      ,  0.61      ,  0.8       ,  0.8       ,\n",
       "        0.61      ,  0.8       ,  0.72      ,  0.72      ,  0.72      ,\n",
       "        0.72      ,  0.79428571,  0.72      ,  0.79428571,  0.72      ,\n",
       "        0.72      ,  0.72      ,  0.79428571,  0.72      ,  0.79428571,\n",
       "        0.79428571,  0.77      ,  0.77      ,  0.77      ,  0.77      ,\n",
       "        0.81      ,  0.81      ,  0.81      ,  0.70857143,  0.70857143,\n",
       "        0.70857143,  0.70857143,  0.70857143,  0.84      ,  0.75428571,\n",
       "        0.75428571,  0.75428571,  0.84      ,  0.75428571,  0.84      ,\n",
       "        0.75428571,  0.81142857,  0.81142857,  0.81142857,  0.81142857,\n",
       "        0.81142857,  0.81142857,  0.70857143,  0.70857143,  0.70857143,\n",
       "        0.70857143,  0.70857143,  0.83      ,  0.83      ,  0.83      ,\n",
       "        0.83      ,  0.84      ,  0.84      ,  0.84      ,  0.84      ,\n",
       "        0.84      ])"
      ]
     },
     "execution_count": 44,
     "metadata": {},
     "output_type": "execute_result"
    }
   ],
   "source": [
    "Y"
   ]
  },
  {
   "cell_type": "markdown",
   "metadata": {},
   "source": [
    "Mean Squared error for our baseline prediciton on test set"
   ]
  },
  {
   "cell_type": "code",
   "execution_count": 45,
   "metadata": {},
   "outputs": [
    {
     "data": {
      "text/plain": [
       "0.0070433218485920768"
      ]
     },
     "execution_count": 45,
     "metadata": {},
     "output_type": "execute_result"
    }
   ],
   "source": [
    "\n",
    "np.mean((prediction_baseline-ytest)**2)"
   ]
  },
  {
   "cell_type": "markdown",
   "metadata": {},
   "source": [
    "Mean Squared error for our bestModel prediciton on test set"
   ]
  },
  {
   "cell_type": "code",
   "execution_count": 46,
   "metadata": {},
   "outputs": [
    {
     "data": {
      "text/plain": [
       "0.0012963113471227557"
      ]
     },
     "execution_count": 46,
     "metadata": {},
     "output_type": "execute_result"
    }
   ],
   "source": [
    "np.mean((prediction_bestModel-ytest)**2)"
   ]
  },
  {
   "cell_type": "code",
   "execution_count": 47,
   "metadata": {},
   "outputs": [
    {
     "name": "stdout",
     "output_type": "stream",
     "text": [
      "2018/8/14 1:11 GMT\n"
     ]
    }
   ],
   "source": [
    "\n",
    "z = dt.datetime.now()\n",
    "print(\"%s/%s/%s %s:%s GMT\" % (z.year, z.month, z.day, z.hour, z.minute))"
   ]
  },
  {
   "cell_type": "code",
   "execution_count": 48,
   "metadata": {},
   "outputs": [
    {
     "name": "stdout",
     "output_type": "stream",
     "text": [
      "['The Alpha Labs', 'Minds Lab', 'Hello Factory', 'Taggle', 'Flexcil', 'SCG', 'BluePrintLab', 'Innoplaylab', 'KTB Solution', 'Naviworks Co.,Ltd.', 'SPRYFIT', 'VisualCamp', 'Clay Fingers', 'Bukio', \"Runner's high\", 'WhaTap Labs']\n"
     ]
    }
   ],
   "source": [
    "dataset = x\n",
    "c =[]\n",
    "for i in set(x[:,1]):\n",
    "  c+=i,\n",
    "print(c)"
   ]
  },
  {
   "cell_type": "code",
   "execution_count": 49,
   "metadata": {},
   "outputs": [
    {
     "data": {
      "text/html": [
       "<div>\n",
       "<table border=\"1\" class=\"dataframe\">\n",
       "  <thead>\n",
       "    <tr style=\"text-align: right;\">\n",
       "      <th></th>\n",
       "      <th>Mentor</th>\n",
       "      <th>Company</th>\n",
       "      <th>r</th>\n",
       "      <th>theta</th>\n",
       "      <th>Y</th>\n",
       "    </tr>\n",
       "  </thead>\n",
       "  <tbody>\n",
       "    <tr>\n",
       "      <th>103</th>\n",
       "      <td>Thierry Schang</td>\n",
       "      <td>BluePrintLab</td>\n",
       "      <td>1.376972</td>\n",
       "      <td>46.286326</td>\n",
       "      <td>0.66</td>\n",
       "    </tr>\n",
       "    <tr>\n",
       "      <th>6</th>\n",
       "      <td>Thierry Schang</td>\n",
       "      <td>BluePrintLab</td>\n",
       "      <td>1.409992</td>\n",
       "      <td>44.900300</td>\n",
       "      <td>0.66</td>\n",
       "    </tr>\n",
       "    <tr>\n",
       "      <th>64</th>\n",
       "      <td>Thierry Schang</td>\n",
       "      <td>BluePrintLab</td>\n",
       "      <td>1.455233</td>\n",
       "      <td>43.151550</td>\n",
       "      <td>0.66</td>\n",
       "    </tr>\n",
       "    <tr>\n",
       "      <th>66</th>\n",
       "      <td>Thierry Schang</td>\n",
       "      <td>BluePrintLab</td>\n",
       "      <td>0.984023</td>\n",
       "      <td>37.702905</td>\n",
       "      <td>0.66</td>\n",
       "    </tr>\n",
       "    <tr>\n",
       "      <th>40</th>\n",
       "      <td>Thierry Schang</td>\n",
       "      <td>BluePrintLab</td>\n",
       "      <td>1.602774</td>\n",
       "      <td>46.224893</td>\n",
       "      <td>0.66</td>\n",
       "    </tr>\n",
       "  </tbody>\n",
       "</table>\n",
       "</div>"
      ],
      "text/plain": [
       "             Mentor       Company         r      theta     Y\n",
       "103  Thierry Schang  BluePrintLab  1.376972  46.286326  0.66\n",
       "6    Thierry Schang  BluePrintLab  1.409992  44.900300  0.66\n",
       "64   Thierry Schang  BluePrintLab  1.455233  43.151550  0.66\n",
       "66   Thierry Schang  BluePrintLab  0.984023  37.702905  0.66\n",
       "40   Thierry Schang  BluePrintLab  1.602774  46.224893  0.66"
      ]
     },
     "execution_count": 49,
     "metadata": {},
     "output_type": "execute_result"
    }
   ],
   "source": [
    "df[0:5]"
   ]
  },
  {
   "cell_type": "code",
   "execution_count": 50,
   "metadata": {},
   "outputs": [
    {
     "data": {
      "text/html": [
       "<div>\n",
       "<table border=\"1\" class=\"dataframe\">\n",
       "  <thead>\n",
       "    <tr style=\"text-align: right;\">\n",
       "      <th></th>\n",
       "      <th>Mentor_Allen Malaki</th>\n",
       "      <th>Mentor_Arnaud Glatron</th>\n",
       "      <th>Mentor_Bumsoo Kim</th>\n",
       "      <th>Mentor_Cirrus Shakeri</th>\n",
       "      <th>Mentor_Crispin Read</th>\n",
       "      <th>Mentor_David Barron</th>\n",
       "      <th>Mentor_Jaap Suermondt</th>\n",
       "      <th>Mentor_Jason Kim</th>\n",
       "      <th>Mentor_Jean-Claude Janqua</th>\n",
       "      <th>Mentor_John Schlesinger</th>\n",
       "      <th>...</th>\n",
       "      <th>Company_Runner's high</th>\n",
       "      <th>Company_SCG</th>\n",
       "      <th>Company_SPRYFIT</th>\n",
       "      <th>Company_Taggle</th>\n",
       "      <th>Company_The Alpha Labs</th>\n",
       "      <th>Company_VisualCamp</th>\n",
       "      <th>Company_WhaTap Labs</th>\n",
       "      <th>r</th>\n",
       "      <th>theta</th>\n",
       "      <th>Y</th>\n",
       "    </tr>\n",
       "  </thead>\n",
       "  <tbody>\n",
       "    <tr>\n",
       "      <th>103</th>\n",
       "      <td>0</td>\n",
       "      <td>0</td>\n",
       "      <td>0</td>\n",
       "      <td>0</td>\n",
       "      <td>0</td>\n",
       "      <td>0</td>\n",
       "      <td>0</td>\n",
       "      <td>0</td>\n",
       "      <td>0</td>\n",
       "      <td>0</td>\n",
       "      <td>...</td>\n",
       "      <td>0</td>\n",
       "      <td>0</td>\n",
       "      <td>0</td>\n",
       "      <td>0</td>\n",
       "      <td>0</td>\n",
       "      <td>0</td>\n",
       "      <td>0</td>\n",
       "      <td>1.376972</td>\n",
       "      <td>46.286326</td>\n",
       "      <td>0.66</td>\n",
       "    </tr>\n",
       "    <tr>\n",
       "      <th>6</th>\n",
       "      <td>0</td>\n",
       "      <td>0</td>\n",
       "      <td>0</td>\n",
       "      <td>0</td>\n",
       "      <td>0</td>\n",
       "      <td>0</td>\n",
       "      <td>0</td>\n",
       "      <td>0</td>\n",
       "      <td>0</td>\n",
       "      <td>0</td>\n",
       "      <td>...</td>\n",
       "      <td>0</td>\n",
       "      <td>0</td>\n",
       "      <td>0</td>\n",
       "      <td>0</td>\n",
       "      <td>0</td>\n",
       "      <td>0</td>\n",
       "      <td>0</td>\n",
       "      <td>1.409992</td>\n",
       "      <td>44.900300</td>\n",
       "      <td>0.66</td>\n",
       "    </tr>\n",
       "    <tr>\n",
       "      <th>64</th>\n",
       "      <td>0</td>\n",
       "      <td>0</td>\n",
       "      <td>0</td>\n",
       "      <td>0</td>\n",
       "      <td>0</td>\n",
       "      <td>0</td>\n",
       "      <td>0</td>\n",
       "      <td>0</td>\n",
       "      <td>0</td>\n",
       "      <td>0</td>\n",
       "      <td>...</td>\n",
       "      <td>0</td>\n",
       "      <td>0</td>\n",
       "      <td>0</td>\n",
       "      <td>0</td>\n",
       "      <td>0</td>\n",
       "      <td>0</td>\n",
       "      <td>0</td>\n",
       "      <td>1.455233</td>\n",
       "      <td>43.151550</td>\n",
       "      <td>0.66</td>\n",
       "    </tr>\n",
       "    <tr>\n",
       "      <th>66</th>\n",
       "      <td>0</td>\n",
       "      <td>0</td>\n",
       "      <td>0</td>\n",
       "      <td>0</td>\n",
       "      <td>0</td>\n",
       "      <td>0</td>\n",
       "      <td>0</td>\n",
       "      <td>0</td>\n",
       "      <td>0</td>\n",
       "      <td>0</td>\n",
       "      <td>...</td>\n",
       "      <td>0</td>\n",
       "      <td>0</td>\n",
       "      <td>0</td>\n",
       "      <td>0</td>\n",
       "      <td>0</td>\n",
       "      <td>0</td>\n",
       "      <td>0</td>\n",
       "      <td>0.984023</td>\n",
       "      <td>37.702905</td>\n",
       "      <td>0.66</td>\n",
       "    </tr>\n",
       "    <tr>\n",
       "      <th>40</th>\n",
       "      <td>0</td>\n",
       "      <td>0</td>\n",
       "      <td>0</td>\n",
       "      <td>0</td>\n",
       "      <td>0</td>\n",
       "      <td>0</td>\n",
       "      <td>0</td>\n",
       "      <td>0</td>\n",
       "      <td>0</td>\n",
       "      <td>0</td>\n",
       "      <td>...</td>\n",
       "      <td>0</td>\n",
       "      <td>0</td>\n",
       "      <td>0</td>\n",
       "      <td>0</td>\n",
       "      <td>0</td>\n",
       "      <td>0</td>\n",
       "      <td>0</td>\n",
       "      <td>1.602774</td>\n",
       "      <td>46.224893</td>\n",
       "      <td>0.66</td>\n",
       "    </tr>\n",
       "  </tbody>\n",
       "</table>\n",
       "<p>5 rows × 37 columns</p>\n",
       "</div>"
      ],
      "text/plain": [
       "     Mentor_Allen Malaki  Mentor_Arnaud Glatron  Mentor_Bumsoo Kim  \\\n",
       "103                    0                      0                  0   \n",
       "6                      0                      0                  0   \n",
       "64                     0                      0                  0   \n",
       "66                     0                      0                  0   \n",
       "40                     0                      0                  0   \n",
       "\n",
       "     Mentor_Cirrus Shakeri  Mentor_Crispin Read  Mentor_David Barron  \\\n",
       "103                      0                    0                    0   \n",
       "6                        0                    0                    0   \n",
       "64                       0                    0                    0   \n",
       "66                       0                    0                    0   \n",
       "40                       0                    0                    0   \n",
       "\n",
       "     Mentor_Jaap Suermondt  Mentor_Jason Kim  Mentor_Jean-Claude Janqua  \\\n",
       "103                      0                 0                          0   \n",
       "6                        0                 0                          0   \n",
       "64                       0                 0                          0   \n",
       "66                       0                 0                          0   \n",
       "40                       0                 0                          0   \n",
       "\n",
       "     Mentor_John Schlesinger  ...   Company_Runner's high  Company_SCG  \\\n",
       "103                        0  ...                       0            0   \n",
       "6                          0  ...                       0            0   \n",
       "64                         0  ...                       0            0   \n",
       "66                         0  ...                       0            0   \n",
       "40                         0  ...                       0            0   \n",
       "\n",
       "     Company_SPRYFIT  Company_Taggle  Company_The Alpha Labs  \\\n",
       "103                0               0                       0   \n",
       "6                  0               0                       0   \n",
       "64                 0               0                       0   \n",
       "66                 0               0                       0   \n",
       "40                 0               0                       0   \n",
       "\n",
       "     Company_VisualCamp  Company_WhaTap Labs         r      theta     Y  \n",
       "103                   0                    0  1.376972  46.286326  0.66  \n",
       "6                     0                    0  1.409992  44.900300  0.66  \n",
       "64                    0                    0  1.455233  43.151550  0.66  \n",
       "66                    0                    0  0.984023  37.702905  0.66  \n",
       "40                    0                    0  1.602774  46.224893  0.66  \n",
       "\n",
       "[5 rows x 37 columns]"
      ]
     },
     "execution_count": 50,
     "metadata": {},
     "output_type": "execute_result"
    }
   ],
   "source": [
    "df2.head()"
   ]
  },
  {
   "cell_type": "raw",
   "metadata": {},
   "source": [
    "# option to display 3MC for company\n",
    "#Plugging Company data\n",
    "for Cmp in set(dataset[:,1]):\n",
    "  Cmpdf = df2.loc[df['Company']==Cmp]\n",
    "  Cmp_x = (Cmpdf.values[:,2:4])\n",
    "  print(Cmp, (pipeline_bestModel.predict(Cmp_x)).mean(), (pipeline_bestModel.predict(Cmp_x)).mean()- pipeline_bestModel.predict(x).mean())\n",
    "print('Average 3MC per companies', pipeline_bestModel.predict(xtrain).mean())\n"
   ]
  },
  {
   "cell_type": "markdown",
   "metadata": {},
   "source": [
    "Our bestModel Archecture"
   ]
  },
  {
   "cell_type": "code",
   "execution_count": 51,
   "metadata": {},
   "outputs": [
    {
     "data": {
      "image/svg+xml": [
       "<svg height=\"392pt\" viewBox=\"0.00 0.00 314.00 392.00\" width=\"314pt\" xmlns=\"http://www.w3.org/2000/svg\" xmlns:xlink=\"http://www.w3.org/1999/xlink\">\n",
       "<g class=\"graph\" id=\"graph0\" transform=\"scale(1 1) rotate(0) translate(4 388)\">\n",
       "<title>G</title>\n",
       "<polygon fill=\"white\" points=\"-4,4 -4,-388 310,-388 310,4 -4,4\" stroke=\"none\"/>\n",
       "<!-- 140625786897240 -->\n",
       "<g class=\"node\" id=\"node1\"><title>140625786897240</title>\n",
       "<polygon fill=\"none\" points=\"-0.5,-337 -0.5,-383 306.5,-383 306.5,-337 -0.5,-337\" stroke=\"black\"/>\n",
       "<text font-family=\"Times,serif\" font-size=\"14.00\" text-anchor=\"middle\" x=\"87.5\" y=\"-356.3\">dense_923_input: InputLayer</text>\n",
       "<polyline fill=\"none\" points=\"175.5,-337 175.5,-383 \" stroke=\"black\"/>\n",
       "<text font-family=\"Times,serif\" font-size=\"14.00\" text-anchor=\"middle\" x=\"203\" y=\"-367.8\">input:</text>\n",
       "<polyline fill=\"none\" points=\"175.5,-360 230.5,-360 \" stroke=\"black\"/>\n",
       "<text font-family=\"Times,serif\" font-size=\"14.00\" text-anchor=\"middle\" x=\"203\" y=\"-344.8\">output:</text>\n",
       "<polyline fill=\"none\" points=\"230.5,-337 230.5,-383 \" stroke=\"black\"/>\n",
       "<text font-family=\"Times,serif\" font-size=\"14.00\" text-anchor=\"middle\" x=\"268.5\" y=\"-367.8\">(None, 36)</text>\n",
       "<polyline fill=\"none\" points=\"230.5,-360 306.5,-360 \" stroke=\"black\"/>\n",
       "<text font-family=\"Times,serif\" font-size=\"14.00\" text-anchor=\"middle\" x=\"268.5\" y=\"-344.8\">(None, 36)</text>\n",
       "</g>\n",
       "<!-- 140624260150552 -->\n",
       "<g class=\"node\" id=\"node2\"><title>140624260150552</title>\n",
       "<polygon fill=\"none\" points=\"29.5,-253 29.5,-299 276.5,-299 276.5,-253 29.5,-253\" stroke=\"black\"/>\n",
       "<text font-family=\"Times,serif\" font-size=\"14.00\" text-anchor=\"middle\" x=\"87.5\" y=\"-272.3\">dense_923: Dense</text>\n",
       "<polyline fill=\"none\" points=\"145.5,-253 145.5,-299 \" stroke=\"black\"/>\n",
       "<text font-family=\"Times,serif\" font-size=\"14.00\" text-anchor=\"middle\" x=\"173\" y=\"-283.8\">input:</text>\n",
       "<polyline fill=\"none\" points=\"145.5,-276 200.5,-276 \" stroke=\"black\"/>\n",
       "<text font-family=\"Times,serif\" font-size=\"14.00\" text-anchor=\"middle\" x=\"173\" y=\"-260.8\">output:</text>\n",
       "<polyline fill=\"none\" points=\"200.5,-253 200.5,-299 \" stroke=\"black\"/>\n",
       "<text font-family=\"Times,serif\" font-size=\"14.00\" text-anchor=\"middle\" x=\"238.5\" y=\"-283.8\">(None, 36)</text>\n",
       "<polyline fill=\"none\" points=\"200.5,-276 276.5,-276 \" stroke=\"black\"/>\n",
       "<text font-family=\"Times,serif\" font-size=\"14.00\" text-anchor=\"middle\" x=\"238.5\" y=\"-260.8\">(None, 36)</text>\n",
       "</g>\n",
       "<!-- 140625786897240&#45;&gt;140624260150552 -->\n",
       "<g class=\"edge\" id=\"edge1\"><title>140625786897240-&gt;140624260150552</title>\n",
       "<path d=\"M153,-336.593C153,-328.118 153,-318.297 153,-309.104\" fill=\"none\" stroke=\"black\"/>\n",
       "<polygon fill=\"black\" points=\"156.5,-309.096 153,-299.096 149.5,-309.096 156.5,-309.096\" stroke=\"black\"/>\n",
       "</g>\n",
       "<!-- 140625786927648 -->\n",
       "<g class=\"node\" id=\"node3\"><title>140625786927648</title>\n",
       "<polygon fill=\"none\" points=\"29.5,-169 29.5,-215 276.5,-215 276.5,-169 29.5,-169\" stroke=\"black\"/>\n",
       "<text font-family=\"Times,serif\" font-size=\"14.00\" text-anchor=\"middle\" x=\"87.5\" y=\"-188.3\">dense_924: Dense</text>\n",
       "<polyline fill=\"none\" points=\"145.5,-169 145.5,-215 \" stroke=\"black\"/>\n",
       "<text font-family=\"Times,serif\" font-size=\"14.00\" text-anchor=\"middle\" x=\"173\" y=\"-199.8\">input:</text>\n",
       "<polyline fill=\"none\" points=\"145.5,-192 200.5,-192 \" stroke=\"black\"/>\n",
       "<text font-family=\"Times,serif\" font-size=\"14.00\" text-anchor=\"middle\" x=\"173\" y=\"-176.8\">output:</text>\n",
       "<polyline fill=\"none\" points=\"200.5,-169 200.5,-215 \" stroke=\"black\"/>\n",
       "<text font-family=\"Times,serif\" font-size=\"14.00\" text-anchor=\"middle\" x=\"238.5\" y=\"-199.8\">(None, 36)</text>\n",
       "<polyline fill=\"none\" points=\"200.5,-192 276.5,-192 \" stroke=\"black\"/>\n",
       "<text font-family=\"Times,serif\" font-size=\"14.00\" text-anchor=\"middle\" x=\"238.5\" y=\"-176.8\">(None, 18)</text>\n",
       "</g>\n",
       "<!-- 140624260150552&#45;&gt;140625786927648 -->\n",
       "<g class=\"edge\" id=\"edge2\"><title>140624260150552-&gt;140625786927648</title>\n",
       "<path d=\"M153,-252.593C153,-244.118 153,-234.297 153,-225.104\" fill=\"none\" stroke=\"black\"/>\n",
       "<polygon fill=\"black\" points=\"156.5,-225.096 153,-215.096 149.5,-225.096 156.5,-225.096\" stroke=\"black\"/>\n",
       "</g>\n",
       "<!-- 140625786927424 -->\n",
       "<g class=\"node\" id=\"node4\"><title>140625786927424</title>\n",
       "<polygon fill=\"none\" points=\"21,-85 21,-131 285,-131 285,-85 21,-85\" stroke=\"black\"/>\n",
       "<text font-family=\"Times,serif\" font-size=\"14.00\" text-anchor=\"middle\" x=\"87.5\" y=\"-104.3\">p_re_lu_312: PReLU</text>\n",
       "<polyline fill=\"none\" points=\"154,-85 154,-131 \" stroke=\"black\"/>\n",
       "<text font-family=\"Times,serif\" font-size=\"14.00\" text-anchor=\"middle\" x=\"181.5\" y=\"-115.8\">input:</text>\n",
       "<polyline fill=\"none\" points=\"154,-108 209,-108 \" stroke=\"black\"/>\n",
       "<text font-family=\"Times,serif\" font-size=\"14.00\" text-anchor=\"middle\" x=\"181.5\" y=\"-92.8\">output:</text>\n",
       "<polyline fill=\"none\" points=\"209,-85 209,-131 \" stroke=\"black\"/>\n",
       "<text font-family=\"Times,serif\" font-size=\"14.00\" text-anchor=\"middle\" x=\"247\" y=\"-115.8\">(None, 18)</text>\n",
       "<polyline fill=\"none\" points=\"209,-108 285,-108 \" stroke=\"black\"/>\n",
       "<text font-family=\"Times,serif\" font-size=\"14.00\" text-anchor=\"middle\" x=\"247\" y=\"-92.8\">(None, 18)</text>\n",
       "</g>\n",
       "<!-- 140625786927648&#45;&gt;140625786927424 -->\n",
       "<g class=\"edge\" id=\"edge3\"><title>140625786927648-&gt;140625786927424</title>\n",
       "<path d=\"M153,-168.593C153,-160.118 153,-150.297 153,-141.104\" fill=\"none\" stroke=\"black\"/>\n",
       "<polygon fill=\"black\" points=\"156.5,-141.096 153,-131.096 149.5,-141.096 156.5,-141.096\" stroke=\"black\"/>\n",
       "</g>\n",
       "<!-- 140624259703080 -->\n",
       "<g class=\"node\" id=\"node5\"><title>140624259703080</title>\n",
       "<polygon fill=\"none\" points=\"29.5,-1 29.5,-47 276.5,-47 276.5,-1 29.5,-1\" stroke=\"black\"/>\n",
       "<text font-family=\"Times,serif\" font-size=\"14.00\" text-anchor=\"middle\" x=\"87.5\" y=\"-20.3\">dense_925: Dense</text>\n",
       "<polyline fill=\"none\" points=\"145.5,-1 145.5,-47 \" stroke=\"black\"/>\n",
       "<text font-family=\"Times,serif\" font-size=\"14.00\" text-anchor=\"middle\" x=\"173\" y=\"-31.8\">input:</text>\n",
       "<polyline fill=\"none\" points=\"145.5,-24 200.5,-24 \" stroke=\"black\"/>\n",
       "<text font-family=\"Times,serif\" font-size=\"14.00\" text-anchor=\"middle\" x=\"173\" y=\"-8.8\">output:</text>\n",
       "<polyline fill=\"none\" points=\"200.5,-1 200.5,-47 \" stroke=\"black\"/>\n",
       "<text font-family=\"Times,serif\" font-size=\"14.00\" text-anchor=\"middle\" x=\"238.5\" y=\"-31.8\">(None, 18)</text>\n",
       "<polyline fill=\"none\" points=\"200.5,-24 276.5,-24 \" stroke=\"black\"/>\n",
       "<text font-family=\"Times,serif\" font-size=\"14.00\" text-anchor=\"middle\" x=\"238.5\" y=\"-8.8\">(None, 1)</text>\n",
       "</g>\n",
       "<!-- 140625786927424&#45;&gt;140624259703080 -->\n",
       "<g class=\"edge\" id=\"edge4\"><title>140625786927424-&gt;140624259703080</title>\n",
       "<path d=\"M153,-84.5931C153,-76.1177 153,-66.2974 153,-57.104\" fill=\"none\" stroke=\"black\"/>\n",
       "<polygon fill=\"black\" points=\"156.5,-57.0958 153,-47.0959 149.5,-57.0959 156.5,-57.0958\" stroke=\"black\"/>\n",
       "</g>\n",
       "</g>\n",
       "</svg>"
      ],
      "text/plain": [
       "<IPython.core.display.SVG object>"
      ]
     },
     "execution_count": 51,
     "metadata": {},
     "output_type": "execute_result"
    }
   ],
   "source": [
    "from IPython.display import SVG\n",
    "from keras.utils.vis_utils import model_to_dot\n",
    "\n",
    "SVG(model_to_dot(bestModel(), show_shapes = True).create(prog='dot', format='svg'))"
   ]
  },
  {
   "cell_type": "code",
   "execution_count": 54,
   "metadata": {},
   "outputs": [
    {
     "data": {
      "text/plain": [
       "array(['Thierry Schang', 'Thierry Schang', 'Thierry Schang',\n",
       "       'Thierry Schang', 'Thierry Schang', 'Bumsoo Kim', 'Bumsoo Kim',\n",
       "       'Bumsoo Kim', 'Bumsoo Kim', 'Bumsoo Kim', 'Bumsoo Kim',\n",
       "       'Bumsoo Kim', 'Stephanie Jacobs', 'Bumsoo Kim', 'Bumsoo Kim',\n",
       "       'Stephanie Jacobs', 'Stephanie Jacobs', 'Bumsoo Kim', 'Bumsoo Kim',\n",
       "       'Stephanie Jacobs', 'Bumsoo Kim', 'Stephanie Jacobs',\n",
       "       'Arnaud Glatron', 'Bumsoo Kim', 'Arnaud Glatron', 'Bumsoo Kim',\n",
       "       'Arnaud Glatron', 'Arnaud Glatron', 'Bumsoo Kim', 'Bumsoo Kim',\n",
       "       'Bumsoo Kim', 'Arnaud Glatron', 'Jason Kim', 'Jason Kim',\n",
       "       'Jason Kim', 'Jason Kim', 'David Barron', 'Allen Malaki',\n",
       "       'Jason Kim', 'Stephen DiFranco', 'Allen Malaki', 'Jason Kim',\n",
       "       'Taeyang Yoon', 'Jean-Claude Janqua', 'Taeyang Yoon',\n",
       "       'Jean-Claude Janqua', 'Jean-Claude Janqua', 'Jean-Claude Janqua',\n",
       "       'Taeyang Yoon', 'Taeyang Yoon', 'Jean-Claude Janqua',\n",
       "       'Taeyang Yoon', 'John Schlesinger', 'John Schlesinger',\n",
       "       'John Schlesinger', 'John Schlesinger', 'KIC-Daniel Lee',\n",
       "       'Cirrus Shakeri', 'Jason Kim', 'Stephen DiFranco', 'Cirrus Shakeri',\n",
       "       'Cirrus Shakeri', 'Jason Kim', 'Cirrus Shakeri', 'Jason Kim',\n",
       "       'KIC-Daniel Lee', 'Crispin Read', 'Crispin Read', 'Crispin Read',\n",
       "       'Crispin Read', 'Crispin Read', 'Crispin Read', 'Crispin Read',\n",
       "       'Jason Kim', 'Jason Kim', 'Jason Kim', 'KIC-Daniel Lee',\n",
       "       'KIC-Daniel Lee', 'Jaap Suermondt', 'Patrick Chung',\n",
       "       'Patrick Chung', 'Patrick Chung', 'Jaap Suermondt', 'Patrick Chung',\n",
       "       'Jaap Suermondt', 'Patrick Chung', 'Patrick Chung', 'Patrick Chung',\n",
       "       'Patrick Chung', 'Patrick Chung', 'Patrick Chung', 'Patrick Chung',\n",
       "       'Patrick Chung', 'Patrick Chung', 'Patrick Chung', 'Patrick Chung',\n",
       "       'Patrick Chung', 'Karl Krantz', 'Karl Krantz', 'Karl Krantz',\n",
       "       'Steve Payne', 'Taeyang Yoon', 'Taeyang Yoon', 'Taeyang Yoon',\n",
       "       'Taeyang Yoon', 'Taeyang Yoon'], dtype=object)"
      ]
     },
     "execution_count": 54,
     "metadata": {},
     "output_type": "execute_result"
    }
   ],
   "source": [
    "df.values[:,0]"
   ]
  },
  {
   "cell_type": "raw",
   "metadata": {
    "collapsed": true
   },
   "source": [
    "# Plugging judge data.\n",
    "for Mtr in list(set(df.values[:,0])):\n",
    "  Mtrdf = df.loc[df['Mentor']==Mtr]\n",
    "  Mtr_x = (Mtrdf.values[:,2:4])\n",
    "  print(Mtr,(pipeline_bestModel.predict(Mtr_x)).mean(), (pipeline_bestModel.predict(Mtr_x)).mean()-pipeline_bestModel.predict(X).mean())\n",
    "print('Average', pipeline_bestModel.predict(X).mean())"
   ]
  },
  {
   "cell_type": "markdown",
   "metadata": {},
   "source": [
    "<center> Residual = Observed - predicted </center>\n",
    "\n"
   ]
  },
  {
   "cell_type": "markdown",
   "metadata": {},
   "source": [
    "Red is our baseline model's residuals while green is our bestModel's."
   ]
  },
  {
   "cell_type": "code",
   "execution_count": 56,
   "metadata": {},
   "outputs": [
    {
     "data": {
      "image/png": "[encoded data removed]",
      "text/plain": [
       "<matplotlib.figure.Figure at 0x7fe8287bf6d8>"
      ]
     },
     "metadata": {},
     "output_type": "display_data"
    }
   ],
   "source": [
    "y1 = prediction_baseline\n",
    "y2 = prediction_bestModel\n",
    "\n",
    "x = range(len(prediction_bestModel))\n",
    "\n",
    "y = Ytest\n",
    "\n",
    "\n",
    "\n",
    "se1 = np.std(prediction_baseline)\n",
    "se2 = np.std(prediction_bestModel)\n",
    "\n",
    "\n",
    "fig, ax = plt.subplots()\n",
    "ax.plot(x, (y-y1), 'r-', label = 'Residual')\n",
    "ax.plot(x, (y-y2), 'g-', label = '3MC')\n",
    "\n",
    "ax.plot(x, [0]*len(x), 'k--')\n",
    "# ax.plot(x, y1 , 'k-', label = '3MC - 100 epochs')\n",
    "ax.set_xlabel('mentor-mentee (weekly, sorted by company)')\n",
    "ax.set_ylabel('Residual (Actual - predict)')\n",
    "ax.yaxis.set_ticks_position('left')\n",
    "ax.xaxis.set_ticks_position('bottom')\n",
    "\n",
    "plt.legend(handles=[fig])\n",
    "\n",
    "# display(fig)\n",
    "\n",
    "plt.savefig(\"3MCResidual_final.png\")\n",
    "plt.show()"
   ]
  },
  {
   "cell_type": "code",
   "execution_count": 57,
   "metadata": {},
   "outputs": [
    {
     "data": {
      "image/png": "[encoded data removed]",
      "text/plain": [
       "<matplotlib.figure.Figure at 0x7fe8287dd4e0>"
      ]
     },
     "metadata": {},
     "output_type": "display_data"
    }
   ],
   "source": [
    "fig, ax = plt.subplots()\n",
    "ax.plot(x, (y-y2) , 'g-', label = '3MC')\n",
    "ax.plot(x, [0]*len(x), 'k--')\n",
    "ax.set_xlabel('mentor-mentee (weekly)')\n",
    "ax.set_ylabel('Residual (Actual - predict)')\n",
    "ax.yaxis.set_ticks_position('left')\n",
    "ax.xaxis.set_ticks_position('bottom')\n",
    "plt.savefig(\"3MCResidualTunedModel_final.png\")\n",
    "\n"
   ]
  },
  {
   "cell_type": "code",
   "execution_count": 58,
   "metadata": {},
   "outputs": [
    {
     "data": {
      "image/png": "[encoded data removed]",
      "text/plain": [
       "<matplotlib.figure.Figure at 0x7fe82873b9e8>"
      ]
     },
     "metadata": {},
     "output_type": "display_data"
    }
   ],
   "source": [
    "# Matplotlib and GGPlot\n",
    "#You can display MatPlotLib and GGPlot objects in Python notebooks.\n",
    "#Matplotlib objects can be viewed in Python notebooks using the display command.\n",
    "\n",
    "\n",
    "\n",
    "y1 = prediction_baseline\n",
    "y2 = prediction_bestModel\n",
    "\n",
    "x = range(len(prediction_bestModel))\n",
    "\n",
    "y = Ytest\n",
    "se1 = np.std(prediction_baseline)\n",
    "se2 = np.std(prediction_bestModel)\n",
    "\n",
    "\n",
    "fig, ax = plt.subplots()\n",
    "ax.plot(x, y, 'ro', label = 'actual data')\n",
    "\n",
    "ax.plot(x, y1 , 'k-', label = '3MC')\n",
    "# ax.plot(x, y1 +2*0.975*(se1) , 'k--', label = '3MC - SE')\n",
    "# ax.plot(x, y1 -2*0.975*(se1) , 'k--', label = '3MC - SE')\n",
    "\n",
    "ax.plot(x, y2, 'g-', label = '3MC')\n",
    "# ax.plot(x, y2 +2*0.975*(se2) , 'g--', label = '3MC SE ')\n",
    "# ax.plot(x, y2 -2*0.975*(se2) , 'g--', label = '3MC SE')\n",
    "\n",
    "ax.set_xlabel('mentor-mentee (weekly) (Big Picture) sorted by company')\n",
    "ax.set_ylabel('Actual Pitch Score 3MC')\n",
    "ax.yaxis.set_ticks_position('left')\n",
    "ax.xaxis.set_ticks_position('bottom')\n",
    "\n",
    "plt.legend(handles=[fig])\n",
    "\n",
    "# display(fig)\n",
    "plt.savefig(\"3MC_BigPicture_final.png\")\n",
    "\n"
   ]
  },
  {
   "cell_type": "code",
   "execution_count": 59,
   "metadata": {},
   "outputs": [
    {
     "data": {
      "text/html": [
       "<div>\n",
       "<table border=\"1\" class=\"dataframe\">\n",
       "  <thead>\n",
       "    <tr style=\"text-align: right;\">\n",
       "      <th></th>\n",
       "      <th>Mentor</th>\n",
       "      <th>Company</th>\n",
       "      <th>r</th>\n",
       "      <th>theta</th>\n",
       "      <th>Y</th>\n",
       "    </tr>\n",
       "  </thead>\n",
       "  <tbody>\n",
       "    <tr>\n",
       "      <th>103</th>\n",
       "      <td>Thierry Schang</td>\n",
       "      <td>BluePrintLab</td>\n",
       "      <td>1.376972</td>\n",
       "      <td>46.286326</td>\n",
       "      <td>0.66</td>\n",
       "    </tr>\n",
       "    <tr>\n",
       "      <th>6</th>\n",
       "      <td>Thierry Schang</td>\n",
       "      <td>BluePrintLab</td>\n",
       "      <td>1.409992</td>\n",
       "      <td>44.900300</td>\n",
       "      <td>0.66</td>\n",
       "    </tr>\n",
       "    <tr>\n",
       "      <th>64</th>\n",
       "      <td>Thierry Schang</td>\n",
       "      <td>BluePrintLab</td>\n",
       "      <td>1.455233</td>\n",
       "      <td>43.151550</td>\n",
       "      <td>0.66</td>\n",
       "    </tr>\n",
       "    <tr>\n",
       "      <th>66</th>\n",
       "      <td>Thierry Schang</td>\n",
       "      <td>BluePrintLab</td>\n",
       "      <td>0.984023</td>\n",
       "      <td>37.702905</td>\n",
       "      <td>0.66</td>\n",
       "    </tr>\n",
       "    <tr>\n",
       "      <th>40</th>\n",
       "      <td>Thierry Schang</td>\n",
       "      <td>BluePrintLab</td>\n",
       "      <td>1.602774</td>\n",
       "      <td>46.224893</td>\n",
       "      <td>0.66</td>\n",
       "    </tr>\n",
       "  </tbody>\n",
       "</table>\n",
       "</div>"
      ],
      "text/plain": [
       "             Mentor       Company         r      theta     Y\n",
       "103  Thierry Schang  BluePrintLab  1.376972  46.286326  0.66\n",
       "6    Thierry Schang  BluePrintLab  1.409992  44.900300  0.66\n",
       "64   Thierry Schang  BluePrintLab  1.455233  43.151550  0.66\n",
       "66   Thierry Schang  BluePrintLab  0.984023  37.702905  0.66\n",
       "40   Thierry Schang  BluePrintLab  1.602774  46.224893  0.66"
      ]
     },
     "execution_count": 59,
     "metadata": {},
     "output_type": "execute_result"
    }
   ],
   "source": [
    "df[0:5]\n",
    "\n"
   ]
  },
  {
   "cell_type": "markdown",
   "metadata": {},
   "source": [
    "Simulation ends"
   ]
  },
  {
   "cell_type": "code",
   "execution_count": 60,
   "metadata": {},
   "outputs": [
    {
     "name": "stdout",
     "output_type": "stream",
     "text": [
      "2018/8/14 1:19 GMT\n"
     ]
    }
   ],
   "source": [
    "\n",
    "z = dt.datetime.now()\n",
    "print(\"%s/%s/%s %s:%s GMT\" % (z.year, z.month, z.day, z.hour, z.minute))"
   ]
  },
  {
   "cell_type": "code",
   "execution_count": 61,
   "metadata": {},
   "outputs": [
    {
     "name": "stdout",
     "output_type": "stream",
     "text": [
      "64.0 mins\n"
     ]
    }
   ],
   "source": [
    "print((z-a).total_seconds()//60., \"mins\")"
   ]
  },
  {
   "cell_type": "markdown",
   "metadata": {},
   "source": [
    "# Appendix: Trying Other methods as benchmark\n",
    "\n",
    "\n",
    "Random Forest and XGboost are two approaches that works excellent in Kaggle competition and generate excellent result with limited time. Random Forest is a ensembled learning of many decision trees. XGBoost (Extreme Gradient Boosting) is a Gradient boosting ensembled trees algorithm\n",
    "\n",
    "\n",
    "For this reason, they are a good benchmark algorithm\n",
    "\n",
    "\n",
    "We will be using sklearn's Randomforestregressor to see how we match against our 3MCNet\n"
   ]
  },
  {
   "cell_type": "code",
   "execution_count": 62,
   "metadata": {
    "collapsed": true
   },
   "outputs": [],
   "source": [
    "from sklearn.ensemble import RandomForestRegressor\n",
    "seed = 123"
   ]
  },
  {
   "cell_type": "markdown",
   "metadata": {},
   "source": [
    "Create a random forest with 1000 trees each has max depth of 20"
   ]
  },
  {
   "cell_type": "code",
   "execution_count": 63,
   "metadata": {
    "collapsed": true
   },
   "outputs": [],
   "source": [
    "rfmodel = RandomForestRegressor(n_estimators = 1000, max_depth = 20, \n",
    "                                  bootstrap = True, \n",
    "                                  criterion = \"mse\", \n",
    "                                  random_state = seed, verbose =1,\n",
    "                                 warm_start = False, n_jobs = 1)"
   ]
  },
  {
   "cell_type": "markdown",
   "metadata": {},
   "source": [
    "Model Fitting"
   ]
  },
  {
   "cell_type": "code",
   "execution_count": 64,
   "metadata": {},
   "outputs": [
    {
     "name": "stderr",
     "output_type": "stream",
     "text": [
      "[Parallel(n_jobs=1)]: Done 1000 out of 1000 | elapsed:    0.4s finished\n"
     ]
    },
    {
     "data": {
      "text/plain": [
       "RandomForestRegressor(bootstrap=True, criterion='mse', max_depth=20,\n",
       "           max_features='auto', max_leaf_nodes=None,\n",
       "           min_impurity_split=1e-07, min_samples_leaf=1,\n",
       "           min_samples_split=2, min_weight_fraction_leaf=0.0,\n",
       "           n_estimators=1000, n_jobs=1, oob_score=False, random_state=123,\n",
       "           verbose=1, warm_start=False)"
      ]
     },
     "execution_count": 64,
     "metadata": {},
     "output_type": "execute_result"
    }
   ],
   "source": [
    "rfmodel.fit(xtrain,ytrain)"
   ]
  },
  {
   "cell_type": "markdown",
   "metadata": {},
   "source": [
    "MSE of random Forest"
   ]
  },
  {
   "cell_type": "code",
   "execution_count": 65,
   "metadata": {},
   "outputs": [
    {
     "name": "stderr",
     "output_type": "stream",
     "text": [
      "[Parallel(n_jobs=1)]: Done 1000 out of 1000 | elapsed:    0.1s finished\n"
     ]
    },
    {
     "data": {
      "text/plain": [
       "0.0010113553346395351"
      ]
     },
     "execution_count": 65,
     "metadata": {},
     "output_type": "execute_result"
    }
   ],
   "source": [
    "np.mean((rfmodel.predict(xtest)-ytest)**2)"
   ]
  },
  {
   "cell_type": "code",
   "execution_count": 66,
   "metadata": {},
   "outputs": [
    {
     "name": "stderr",
     "output_type": "stream",
     "text": [
      "[Parallel(n_jobs=1)]: Done 1000 out of 1000 | elapsed:    0.1s finished\n"
     ]
    }
   ],
   "source": [
    "prediction_rfmodel = rfmodel.predict(xtest)"
   ]
  },
  {
   "cell_type": "markdown",
   "metadata": {},
   "source": [
    "# XGboost\n",
    "\n",
    "\n"
   ]
  },
  {
   "cell_type": "code",
   "execution_count": 67,
   "metadata": {
    "collapsed": true
   },
   "outputs": [],
   "source": [
    "import xgboost\n",
    "from xgboost import XGBRegressor"
   ]
  },
  {
   "cell_type": "markdown",
   "metadata": {},
   "source": [
    "Create XGBOOST model with L1 and L2 regulizers.\n",
    "\n",
    "(We can also tune our paremeter with hperas, but it is out of scope of this report)"
   ]
  },
  {
   "cell_type": "code",
   "execution_count": 68,
   "metadata": {
    "collapsed": true
   },
   "outputs": [],
   "source": [
    "xgmodel = XGBRegressor(max_depth = 10,  reg_alpha=0.5, reg_lambda=0.5, n_jobs = 2)"
   ]
  },
  {
   "cell_type": "markdown",
   "metadata": {},
   "source": [
    "Model fiting"
   ]
  },
  {
   "cell_type": "code",
   "execution_count": 69,
   "metadata": {},
   "outputs": [
    {
     "data": {
      "text/plain": [
       "XGBRegressor(base_score=0.5, booster='gbtree', colsample_bylevel=1,\n",
       "       colsample_bytree=1, gamma=0, learning_rate=0.1, max_delta_step=0,\n",
       "       max_depth=10, min_child_weight=1, missing=None, n_estimators=100,\n",
       "       n_jobs=2, nthread=None, objective='reg:linear', random_state=0,\n",
       "       reg_alpha=0.5, reg_lambda=0.5, scale_pos_weight=1, seed=None,\n",
       "       silent=True, subsample=1)"
      ]
     },
     "execution_count": 69,
     "metadata": {},
     "output_type": "execute_result"
    }
   ],
   "source": [
    "xgmodel.fit(xtrain,ytrain)"
   ]
  },
  {
   "cell_type": "markdown",
   "metadata": {},
   "source": [
    "MSE of XGBoost"
   ]
  },
  {
   "cell_type": "code",
   "execution_count": 70,
   "metadata": {},
   "outputs": [
    {
     "data": {
      "text/plain": [
       "0.00091877916661608355"
      ]
     },
     "execution_count": 70,
     "metadata": {},
     "output_type": "execute_result"
    }
   ],
   "source": [
    "np.mean((xgmodel.predict(xtest)-ytest)**2)"
   ]
  },
  {
   "cell_type": "code",
   "execution_count": 71,
   "metadata": {
    "collapsed": true
   },
   "outputs": [],
   "source": [
    "prediction_xgboost = xgmodel.predict(xtest)"
   ]
  },
  {
   "cell_type": "markdown",
   "metadata": {},
   "source": [
    "# Result\n",
    "\n",
    "Plot our results and see how our basedline Neural Network and tuned Neural Network perform against our benchmarks (Random Forest and XGBoost)"
   ]
  },
  {
   "cell_type": "code",
   "execution_count": 72,
   "metadata": {},
   "outputs": [
    {
     "data": {
      "image/png": "[encoded data removed]",
      "text/plain": [
       "<matplotlib.figure.Figure at 0x7fe5a217f908>"
      ]
     },
     "metadata": {},
     "output_type": "display_data"
    }
   ],
   "source": [
    "\n",
    "\n",
    "\n",
    "y1 = prediction_baseline\n",
    "y2 = prediction_bestModel\n",
    "y3 = prediction_rfmodel\n",
    "y4 = prediction_xgboost\n",
    "\n",
    "\n",
    "x = range(len(prediction_bestModel))\n",
    "\n",
    "y_ = ytest #dataY\n",
    "se1 = np.std(prediction_baseline)\n",
    "se2 = np.std(prediction_bestModel)\n",
    "\n",
    "\n",
    "fig, ax = plt.subplots()\n",
    "ax.plot(x, y_, 'ro', label = 'actual data')\n",
    "\n",
    "ax.plot(x, y1 , 'k-', label = '3MC - 100 epochs')\n",
    "# ax.plot(x, y1 +2*0.975*(se1) , 'k--', label = '3MC - 100 epochs SE')\n",
    "# ax.plot(x, y1 -2*0.975*(se1) , 'k--', label = '3MC - 100 epochs SE')\n",
    "\n",
    "ax.plot(x, y2, 'g-', label = '3MC Cust -100 epochs')\n",
    "\n",
    "# ax.plot(x, y2 +2*0.975*(se2) , 'g--', label = '3MC - 50 epochs SE(tuned)')\n",
    "# ax.plot(x, y2 -2*0.975*(se2) , 'g--', label = '3MC - 50 epochs SE(tuned)')\n",
    "\n",
    "\n",
    "ax.plot(x, y3, 'b-', label = '3MC Cust -100 epochs')\n",
    "\n",
    "ax.plot(x, y4, 'y-', label = '3MC Cust -100 epochs')\n",
    "\n",
    "ax.set_xlabel('mentor-mentee (weekly) (Big Picture) sorted by company')\n",
    "ax.set_ylabel('Actual Pitch Score 3MC')\n",
    "ax.yaxis.set_ticks_position('left')\n",
    "ax.xaxis.set_ticks_position('bottom')\n",
    "ax.set_ylim([0,1])\n",
    "\n",
    "plt.legend(handles=[fig])\n",
    "\n",
    "# display(fig)\n",
    "plt.savefig(\"3MC_BigPicture_NN_RF_XGB_final.png\")\n"
   ]
  },
  {
   "cell_type": "markdown",
   "metadata": {},
   "source": [
    "You might wonder why we use 3MCNet over RandomForest (Ensembled learning method of decision trees) and XGBoost (Extreme Gradient Boosting).\n",
    "\n",
    "Indeed this thought is logicial and right. However, as we have more data (column and row) and better data (in term of quality) when we progress, Neural Network will peform better. (NN is just better at scale and when many factors are needed to be considered.)\n",
    "\n",
    "When the data we have is lacking, we can ensemble XGBoost and Random Forst with 3MCNet. This is a classic approach for data science as Ensembled method helps reduce overfitting and **generalize** nicely. \n"
   ]
  },
  {
   "cell_type": "markdown",
   "metadata": {},
   "source": [
    "Now Save everything in a environment with dill"
   ]
  },
  {
   "cell_type": "raw",
   "metadata": {},
   "source": [
    "import dill\n",
    "\n",
    "filename = 'Keras_3MCNet_final-prod_dummies-Copy1.pkl'\n",
    "dill.dump_session(filename)\n",
    "# and to load the session again:\n",
    "dill.load_session(filename)"
   ]
  },
  {
   "cell_type": "markdown",
   "metadata": {},
   "source": [
    "# Insights we got from hyperparameter tuning (Simple GridSearchCV)"
   ]
  },
  {
   "cell_type": "markdown",
   "metadata": {},
   "source": [
    "#### According to our hyperparamter tuning (we use GridSearch method, the model take 60 mins to run and train),  the grid search showed that Adadelta performs better than Stochastic Gradient Descent;Yet, when we introduce Mentor/Mentee, clasic Adam performs the best.\n",
    "\n",
    "\n",
    "### Also, we further proved that our custom activation  \n",
    "$${f(r,\\theta)=2rsin(\\theta−pi/2}$$\n",
    "in the input layer (The objective function we derived) perform way better than other activation functions (like relu, prelu and etc.) when only r, theta are given. Likewise, when we introudce Mentor/Company, Neural net popular choice relu wins. \n",
    "\n",
    "## Improvement\n",
    "\n",
    "In order to better incoperate Mentor/Company and r/theta, we should first train our r, theta network then feed into another neural nets with Mentor/Company data. This approach is very similar to Recurrent Neural Network (RNN).\n",
    "\n",
    "Yet, We observed that huber loss is not very appreciated.\n",
    "\n",
    "# More exicting details\n",
    "\n",
    "Detailed result regarding about the hyper parameter tuning with hyperas(complicated architecture are developed), refer to **Keras-kopt-3MCNet-two-variables.ipynb** and **Keras-kopt-3MCNet-four-variables.ipynb**.\n",
    "\n"
   ]
  }
 ],
 "metadata": {
  "anaconda-cloud": {},
  "hide_input": false,
  "kernelspec": {
   "display_name": "Python [default]",
   "language": "python",
   "name": "python3"
  },
  "language_info": {
   "codemirror_mode": {
    "name": "ipython",
    "version": 3
   },
   "file_extension": ".py",
   "mimetype": "text/x-python",
   "name": "python",
   "nbconvert_exporter": "python",
   "pygments_lexer": "ipython3",
   "version": "3.5.4"
  },
  "name": "Keras_3MC_test",
  "notebookId": 3413170493615545
 },
 "nbformat": 4,
 "nbformat_minor": 1
}
